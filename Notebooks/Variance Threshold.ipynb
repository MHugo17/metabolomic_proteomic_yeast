{
 "cells": [
  {
   "cell_type": "markdown",
   "metadata": {},
   "source": [
    "### Reduce features by Variance"
   ]
  },
  {
   "cell_type": "code",
   "execution_count": 150,
   "metadata": {},
   "outputs": [],
   "source": [
    "import pandas as pd\n",
    "import numpy as np\n",
    "\n",
    "from sklearn import linear_model\n",
    "from sklearn.linear_model import SGDRegressor\n",
    "from sklearn.linear_model import LinearRegression\n",
    "\n",
    "import matplotlib as mpl\n",
    "import matplotlib.pyplot as plt\n",
    "from matplotlib import cm\n",
    "\n",
    "from sklearn.metrics import mean_squared_error, r2_score"
   ]
  },
  {
   "cell_type": "code",
   "execution_count": 151,
   "metadata": {},
   "outputs": [
    {
     "data": {
      "text/html": [
       "<div>\n",
       "<style scoped>\n",
       "    .dataframe tbody tr th:only-of-type {\n",
       "        vertical-align: middle;\n",
       "    }\n",
       "\n",
       "    .dataframe tbody tr th {\n",
       "        vertical-align: top;\n",
       "    }\n",
       "\n",
       "    .dataframe thead th {\n",
       "        text-align: right;\n",
       "    }\n",
       "</style>\n",
       "<table border=\"1\" class=\"dataframe\">\n",
       "  <thead>\n",
       "    <tr style=\"text-align: right;\">\n",
       "      <th></th>\n",
       "      <th>YAL003W</th>\n",
       "      <th>YAL005C</th>\n",
       "      <th>YAL007C</th>\n",
       "      <th>YAL012W</th>\n",
       "      <th>YAL035W</th>\n",
       "      <th>YAL038W</th>\n",
       "      <th>YAL042W</th>\n",
       "      <th>YAL044C</th>\n",
       "      <th>YAR002C-A</th>\n",
       "      <th>YAR007C</th>\n",
       "      <th>...</th>\n",
       "      <th>D-Fructose 6-phosphate</th>\n",
       "      <th>D-Glucose</th>\n",
       "      <th>D-Glucose 6-phosphate;D-Fructose 6-phosphate;beta-D-glucose 6-phosphate</th>\n",
       "      <th>D-Xylulose 5-phosphate;D-Ribulose 5-phosphate</th>\n",
       "      <th>Dihydroxyacetone phosphate</th>\n",
       "      <th>Glyceraldehyde 3-phosphate</th>\n",
       "      <th>Phosphoenolpyruvate</th>\n",
       "      <th>Pyruvate</th>\n",
       "      <th>Sedoheptulose 7-phosphate</th>\n",
       "      <th>alpha-D-Ribose 5-phosphate</th>\n",
       "    </tr>\n",
       "  </thead>\n",
       "  <tbody>\n",
       "    <tr>\n",
       "      <th>WT</th>\n",
       "      <td>8.719377</td>\n",
       "      <td>8.960088</td>\n",
       "      <td>5.003403</td>\n",
       "      <td>8.743338</td>\n",
       "      <td>5.370779</td>\n",
       "      <td>10.313125</td>\n",
       "      <td>3.935282</td>\n",
       "      <td>6.812850</td>\n",
       "      <td>6.472343</td>\n",
       "      <td>5.387758</td>\n",
       "      <td>...</td>\n",
       "      <td>5248.663203</td>\n",
       "      <td>16459.030703</td>\n",
       "      <td>14109.667929</td>\n",
       "      <td>921.058392</td>\n",
       "      <td>1758.194055</td>\n",
       "      <td>199.991133</td>\n",
       "      <td>76.375142</td>\n",
       "      <td>2065.592332</td>\n",
       "      <td>474.343120</td>\n",
       "      <td>143.661484</td>\n",
       "    </tr>\n",
       "    <tr>\n",
       "      <th>YAL017W</th>\n",
       "      <td>8.653198</td>\n",
       "      <td>8.824927</td>\n",
       "      <td>5.155914</td>\n",
       "      <td>8.670526</td>\n",
       "      <td>5.374893</td>\n",
       "      <td>10.272428</td>\n",
       "      <td>2.955933</td>\n",
       "      <td>6.961889</td>\n",
       "      <td>6.299363</td>\n",
       "      <td>5.526707</td>\n",
       "      <td>...</td>\n",
       "      <td>13.066836</td>\n",
       "      <td>17002.046210</td>\n",
       "      <td>13710.190749</td>\n",
       "      <td>951.437296</td>\n",
       "      <td>11.132119</td>\n",
       "      <td>6.455504</td>\n",
       "      <td>1.349970</td>\n",
       "      <td>85.700836</td>\n",
       "      <td>79.431617</td>\n",
       "      <td>0.806534</td>\n",
       "    </tr>\n",
       "    <tr>\n",
       "      <th>YAR018C</th>\n",
       "      <td>8.797391</td>\n",
       "      <td>8.550221</td>\n",
       "      <td>4.993235</td>\n",
       "      <td>8.556956</td>\n",
       "      <td>5.578207</td>\n",
       "      <td>10.390911</td>\n",
       "      <td>4.389316</td>\n",
       "      <td>7.254334</td>\n",
       "      <td>6.437292</td>\n",
       "      <td>5.498802</td>\n",
       "      <td>...</td>\n",
       "      <td>19.361500</td>\n",
       "      <td>19919.397972</td>\n",
       "      <td>13448.417525</td>\n",
       "      <td>882.991924</td>\n",
       "      <td>14.230257</td>\n",
       "      <td>5.631380</td>\n",
       "      <td>1.585306</td>\n",
       "      <td>73.672407</td>\n",
       "      <td>108.635344</td>\n",
       "      <td>1.148182</td>\n",
       "    </tr>\n",
       "    <tr>\n",
       "      <th>YBL016W</th>\n",
       "      <td>8.543181</td>\n",
       "      <td>8.691758</td>\n",
       "      <td>4.663340</td>\n",
       "      <td>9.116122</td>\n",
       "      <td>3.596748</td>\n",
       "      <td>9.584951</td>\n",
       "      <td>4.563300</td>\n",
       "      <td>8.003110</td>\n",
       "      <td>6.923137</td>\n",
       "      <td>5.737214</td>\n",
       "      <td>...</td>\n",
       "      <td>11798.792914</td>\n",
       "      <td>17113.405359</td>\n",
       "      <td>11784.749618</td>\n",
       "      <td>654.096269</td>\n",
       "      <td>2116.528559</td>\n",
       "      <td>219.251307</td>\n",
       "      <td>103.318199</td>\n",
       "      <td>3495.661987</td>\n",
       "      <td>727.906677</td>\n",
       "      <td>206.846696</td>\n",
       "    </tr>\n",
       "    <tr>\n",
       "      <th>YBL088C</th>\n",
       "      <td>8.694384</td>\n",
       "      <td>8.763244</td>\n",
       "      <td>4.984653</td>\n",
       "      <td>9.056300</td>\n",
       "      <td>3.682467</td>\n",
       "      <td>9.651980</td>\n",
       "      <td>4.139872</td>\n",
       "      <td>7.229609</td>\n",
       "      <td>6.447050</td>\n",
       "      <td>5.264817</td>\n",
       "      <td>...</td>\n",
       "      <td>16.298688</td>\n",
       "      <td>14304.146218</td>\n",
       "      <td>12071.678784</td>\n",
       "      <td>604.834183</td>\n",
       "      <td>17.417181</td>\n",
       "      <td>8.438564</td>\n",
       "      <td>1.374669</td>\n",
       "      <td>92.136368</td>\n",
       "      <td>81.188838</td>\n",
       "      <td>1.095210</td>\n",
       "    </tr>\n",
       "  </tbody>\n",
       "</table>\n",
       "<p>5 rows × 739 columns</p>\n",
       "</div>"
      ],
      "text/plain": [
       "          YAL003W   YAL005C   YAL007C   YAL012W   YAL035W    YAL038W  \\\n",
       "WT       8.719377  8.960088  5.003403  8.743338  5.370779  10.313125   \n",
       "YAL017W  8.653198  8.824927  5.155914  8.670526  5.374893  10.272428   \n",
       "YAR018C  8.797391  8.550221  4.993235  8.556956  5.578207  10.390911   \n",
       "YBL016W  8.543181  8.691758  4.663340  9.116122  3.596748   9.584951   \n",
       "YBL088C  8.694384  8.763244  4.984653  9.056300  3.682467   9.651980   \n",
       "\n",
       "          YAL042W   YAL044C  YAR002C-A   YAR007C  ...  D-Fructose 6-phosphate  \\\n",
       "WT       3.935282  6.812850   6.472343  5.387758  ...             5248.663203   \n",
       "YAL017W  2.955933  6.961889   6.299363  5.526707  ...               13.066836   \n",
       "YAR018C  4.389316  7.254334   6.437292  5.498802  ...               19.361500   \n",
       "YBL016W  4.563300  8.003110   6.923137  5.737214  ...            11798.792914   \n",
       "YBL088C  4.139872  7.229609   6.447050  5.264817  ...               16.298688   \n",
       "\n",
       "            D-Glucose  \\\n",
       "WT       16459.030703   \n",
       "YAL017W  17002.046210   \n",
       "YAR018C  19919.397972   \n",
       "YBL016W  17113.405359   \n",
       "YBL088C  14304.146218   \n",
       "\n",
       "         D-Glucose 6-phosphate;D-Fructose 6-phosphate;beta-D-glucose 6-phosphate  \\\n",
       "WT                                            14109.667929                         \n",
       "YAL017W                                       13710.190749                         \n",
       "YAR018C                                       13448.417525                         \n",
       "YBL016W                                       11784.749618                         \n",
       "YBL088C                                       12071.678784                         \n",
       "\n",
       "         D-Xylulose 5-phosphate;D-Ribulose 5-phosphate  \\\n",
       "WT                                          921.058392   \n",
       "YAL017W                                     951.437296   \n",
       "YAR018C                                     882.991924   \n",
       "YBL016W                                     654.096269   \n",
       "YBL088C                                     604.834183   \n",
       "\n",
       "         Dihydroxyacetone phosphate  Glyceraldehyde 3-phosphate  \\\n",
       "WT                      1758.194055                  199.991133   \n",
       "YAL017W                   11.132119                    6.455504   \n",
       "YAR018C                   14.230257                    5.631380   \n",
       "YBL016W                 2116.528559                  219.251307   \n",
       "YBL088C                   17.417181                    8.438564   \n",
       "\n",
       "         Phosphoenolpyruvate     Pyruvate  Sedoheptulose 7-phosphate  \\\n",
       "WT                 76.375142  2065.592332                 474.343120   \n",
       "YAL017W             1.349970    85.700836                  79.431617   \n",
       "YAR018C             1.585306    73.672407                 108.635344   \n",
       "YBL016W           103.318199  3495.661987                 727.906677   \n",
       "YBL088C             1.374669    92.136368                  81.188838   \n",
       "\n",
       "         alpha-D-Ribose 5-phosphate  \n",
       "WT                       143.661484  \n",
       "YAL017W                    0.806534  \n",
       "YAR018C                    1.148182  \n",
       "YBL016W                  206.846696  \n",
       "YBL088C                    1.095210  \n",
       "\n",
       "[5 rows x 739 columns]"
      ]
     },
     "execution_count": 151,
     "metadata": {},
     "output_type": "execute_result"
    }
   ],
   "source": [
    "mutants = pd.read_csv('../data/all_data_13.csv',index_col=0)\n",
    "mutants.head(5)"
   ]
  },
  {
   "cell_type": "markdown",
   "metadata": {},
   "source": [
    "### Create x and y for a specific Metabolite"
   ]
  },
  {
   "cell_type": "code",
   "execution_count": 152,
   "metadata": {},
   "outputs": [],
   "source": [
    "position = 731 # from 726 are metabolites"
   ]
  },
  {
   "cell_type": "code",
   "execution_count": 153,
   "metadata": {},
   "outputs": [
    {
     "name": "stdout",
     "output_type": "stream",
     "text": [
      "Example\n",
      "D-Glucose 6-phosphate;D-Fructose 6-phosphate;beta-D-glucose 6-phosphate\n"
     ]
    }
   ],
   "source": [
    "#get the name of the column accroding to position\n",
    "print('Example') \n",
    "print(mutants.columns.get_values()[position])"
   ]
  },
  {
   "cell_type": "code",
   "execution_count": 154,
   "metadata": {},
   "outputs": [],
   "source": [
    "#choose metabolite (target) by position\n",
    "\n",
    "x = mutants.iloc[:,0:725]   #stays like this\n",
    "y = mutants.iloc[:,position]"
   ]
  },
  {
   "cell_type": "code",
   "execution_count": null,
   "metadata": {},
   "outputs": [],
   "source": []
  },
  {
   "cell_type": "markdown",
   "metadata": {},
   "source": [
    "### Remove features according to Variance (scikitlearn)"
   ]
  },
  {
   "cell_type": "code",
   "execution_count": 156,
   "metadata": {},
   "outputs": [],
   "source": [
    "from sklearn.feature_selection import VarianceThreshold"
   ]
  },
  {
   "cell_type": "code",
   "execution_count": 172,
   "metadata": {},
   "outputs": [],
   "source": [
    "def variance_threshold_selector(data_select, threshold=0.1):\n",
    "    selector = VarianceThreshold(threshold)\n",
    "    selector.fit(data_select)\n",
    "    return data_select[data_select.columns[selector.get_support(indices=True)]]"
   ]
  },
  {
   "cell_type": "code",
   "execution_count": 177,
   "metadata": {},
   "outputs": [],
   "source": [
    "data_variance = variance_threshold_selector(x, 0.05)"
   ]
  },
  {
   "cell_type": "code",
   "execution_count": 178,
   "metadata": {},
   "outputs": [
    {
     "data": {
      "text/html": [
       "<div>\n",
       "<style scoped>\n",
       "    .dataframe tbody tr th:only-of-type {\n",
       "        vertical-align: middle;\n",
       "    }\n",
       "\n",
       "    .dataframe tbody tr th {\n",
       "        vertical-align: top;\n",
       "    }\n",
       "\n",
       "    .dataframe thead th {\n",
       "        text-align: right;\n",
       "    }\n",
       "</style>\n",
       "<table border=\"1\" class=\"dataframe\">\n",
       "  <thead>\n",
       "    <tr style=\"text-align: right;\">\n",
       "      <th></th>\n",
       "      <th>YAL003W</th>\n",
       "      <th>YAL005C</th>\n",
       "      <th>YAL007C</th>\n",
       "      <th>YAL035W</th>\n",
       "      <th>YAL038W</th>\n",
       "      <th>YAL042W</th>\n",
       "      <th>YAL044C</th>\n",
       "      <th>YAR007C</th>\n",
       "      <th>YAR015W</th>\n",
       "      <th>YBL015W</th>\n",
       "      <th>...</th>\n",
       "      <th>YPR074C</th>\n",
       "      <th>YPR103W</th>\n",
       "      <th>YPR118W</th>\n",
       "      <th>YPR129W</th>\n",
       "      <th>YPR133C</th>\n",
       "      <th>YPR145W</th>\n",
       "      <th>YPR160W</th>\n",
       "      <th>YPR163C</th>\n",
       "      <th>YPR181C</th>\n",
       "      <th>YPR187W</th>\n",
       "    </tr>\n",
       "  </thead>\n",
       "  <tbody>\n",
       "    <tr>\n",
       "      <th>WT</th>\n",
       "      <td>8.719377</td>\n",
       "      <td>8.960088</td>\n",
       "      <td>5.003403</td>\n",
       "      <td>5.370779</td>\n",
       "      <td>10.313125</td>\n",
       "      <td>3.935282</td>\n",
       "      <td>6.812850</td>\n",
       "      <td>5.387758</td>\n",
       "      <td>7.579128</td>\n",
       "      <td>4.274885</td>\n",
       "      <td>...</td>\n",
       "      <td>8.496313</td>\n",
       "      <td>5.812644</td>\n",
       "      <td>4.510428</td>\n",
       "      <td>5.711407</td>\n",
       "      <td>4.560500</td>\n",
       "      <td>6.003440</td>\n",
       "      <td>6.557329</td>\n",
       "      <td>6.617036</td>\n",
       "      <td>5.941389</td>\n",
       "      <td>4.169592</td>\n",
       "    </tr>\n",
       "    <tr>\n",
       "      <th>YAL017W</th>\n",
       "      <td>8.653198</td>\n",
       "      <td>8.824927</td>\n",
       "      <td>5.155914</td>\n",
       "      <td>5.374893</td>\n",
       "      <td>10.272428</td>\n",
       "      <td>2.955933</td>\n",
       "      <td>6.961889</td>\n",
       "      <td>5.526707</td>\n",
       "      <td>7.622924</td>\n",
       "      <td>4.290787</td>\n",
       "      <td>...</td>\n",
       "      <td>8.456138</td>\n",
       "      <td>5.874653</td>\n",
       "      <td>4.436561</td>\n",
       "      <td>5.700283</td>\n",
       "      <td>4.250510</td>\n",
       "      <td>6.176480</td>\n",
       "      <td>6.323853</td>\n",
       "      <td>6.557297</td>\n",
       "      <td>5.904971</td>\n",
       "      <td>4.143712</td>\n",
       "    </tr>\n",
       "    <tr>\n",
       "      <th>YAR018C</th>\n",
       "      <td>8.797391</td>\n",
       "      <td>8.550221</td>\n",
       "      <td>4.993235</td>\n",
       "      <td>5.578207</td>\n",
       "      <td>10.390911</td>\n",
       "      <td>4.389316</td>\n",
       "      <td>7.254334</td>\n",
       "      <td>5.498802</td>\n",
       "      <td>7.712280</td>\n",
       "      <td>4.048817</td>\n",
       "      <td>...</td>\n",
       "      <td>8.388259</td>\n",
       "      <td>5.747122</td>\n",
       "      <td>4.594382</td>\n",
       "      <td>5.884048</td>\n",
       "      <td>4.439059</td>\n",
       "      <td>6.138866</td>\n",
       "      <td>6.282303</td>\n",
       "      <td>6.254297</td>\n",
       "      <td>6.012691</td>\n",
       "      <td>4.425224</td>\n",
       "    </tr>\n",
       "    <tr>\n",
       "      <th>YBL016W</th>\n",
       "      <td>8.543181</td>\n",
       "      <td>8.691758</td>\n",
       "      <td>4.663340</td>\n",
       "      <td>3.596748</td>\n",
       "      <td>9.584951</td>\n",
       "      <td>4.563300</td>\n",
       "      <td>8.003110</td>\n",
       "      <td>5.737214</td>\n",
       "      <td>7.560972</td>\n",
       "      <td>4.509786</td>\n",
       "      <td>...</td>\n",
       "      <td>7.360402</td>\n",
       "      <td>6.134415</td>\n",
       "      <td>5.291918</td>\n",
       "      <td>5.873647</td>\n",
       "      <td>5.618777</td>\n",
       "      <td>6.741446</td>\n",
       "      <td>5.446941</td>\n",
       "      <td>6.169978</td>\n",
       "      <td>5.932574</td>\n",
       "      <td>6.722786</td>\n",
       "    </tr>\n",
       "    <tr>\n",
       "      <th>YBL088C</th>\n",
       "      <td>8.694384</td>\n",
       "      <td>8.763244</td>\n",
       "      <td>4.984653</td>\n",
       "      <td>3.682467</td>\n",
       "      <td>9.651980</td>\n",
       "      <td>4.139872</td>\n",
       "      <td>7.229609</td>\n",
       "      <td>5.264817</td>\n",
       "      <td>7.733115</td>\n",
       "      <td>3.926053</td>\n",
       "      <td>...</td>\n",
       "      <td>8.281126</td>\n",
       "      <td>5.745920</td>\n",
       "      <td>4.581871</td>\n",
       "      <td>5.644523</td>\n",
       "      <td>3.844709</td>\n",
       "      <td>6.397196</td>\n",
       "      <td>5.400316</td>\n",
       "      <td>6.551273</td>\n",
       "      <td>5.613438</td>\n",
       "      <td>4.023677</td>\n",
       "    </tr>\n",
       "  </tbody>\n",
       "</table>\n",
       "<p>5 rows × 506 columns</p>\n",
       "</div>"
      ],
      "text/plain": [
       "          YAL003W   YAL005C   YAL007C   YAL035W    YAL038W   YAL042W  \\\n",
       "WT       8.719377  8.960088  5.003403  5.370779  10.313125  3.935282   \n",
       "YAL017W  8.653198  8.824927  5.155914  5.374893  10.272428  2.955933   \n",
       "YAR018C  8.797391  8.550221  4.993235  5.578207  10.390911  4.389316   \n",
       "YBL016W  8.543181  8.691758  4.663340  3.596748   9.584951  4.563300   \n",
       "YBL088C  8.694384  8.763244  4.984653  3.682467   9.651980  4.139872   \n",
       "\n",
       "          YAL044C   YAR007C   YAR015W   YBL015W  ...   YPR074C   YPR103W  \\\n",
       "WT       6.812850  5.387758  7.579128  4.274885  ...  8.496313  5.812644   \n",
       "YAL017W  6.961889  5.526707  7.622924  4.290787  ...  8.456138  5.874653   \n",
       "YAR018C  7.254334  5.498802  7.712280  4.048817  ...  8.388259  5.747122   \n",
       "YBL016W  8.003110  5.737214  7.560972  4.509786  ...  7.360402  6.134415   \n",
       "YBL088C  7.229609  5.264817  7.733115  3.926053  ...  8.281126  5.745920   \n",
       "\n",
       "          YPR118W   YPR129W   YPR133C   YPR145W   YPR160W   YPR163C   YPR181C  \\\n",
       "WT       4.510428  5.711407  4.560500  6.003440  6.557329  6.617036  5.941389   \n",
       "YAL017W  4.436561  5.700283  4.250510  6.176480  6.323853  6.557297  5.904971   \n",
       "YAR018C  4.594382  5.884048  4.439059  6.138866  6.282303  6.254297  6.012691   \n",
       "YBL016W  5.291918  5.873647  5.618777  6.741446  5.446941  6.169978  5.932574   \n",
       "YBL088C  4.581871  5.644523  3.844709  6.397196  5.400316  6.551273  5.613438   \n",
       "\n",
       "          YPR187W  \n",
       "WT       4.169592  \n",
       "YAL017W  4.143712  \n",
       "YAR018C  4.425224  \n",
       "YBL016W  6.722786  \n",
       "YBL088C  4.023677  \n",
       "\n",
       "[5 rows x 506 columns]"
      ]
     },
     "execution_count": 178,
     "metadata": {},
     "output_type": "execute_result"
    }
   ],
   "source": [
    "data_variance.head()"
   ]
  },
  {
   "cell_type": "code",
   "execution_count": 180,
   "metadata": {},
   "outputs": [],
   "source": [
    "file_name = '../data/selection_variance.csv'\n",
    "data_variance.to_csv(file_name, index=True)"
   ]
  },
  {
   "cell_type": "code",
   "execution_count": 161,
   "metadata": {},
   "outputs": [],
   "source": [
    "y = y/y.max()"
   ]
  },
  {
   "cell_type": "code",
   "execution_count": 162,
   "metadata": {},
   "outputs": [],
   "source": [
    "from sklearn.model_selection import train_test_split\n",
    "x_train, x_val, y_train, y_val = train_test_split(data_variance, y, test_size=0.1)"
   ]
  },
  {
   "cell_type": "code",
   "execution_count": 163,
   "metadata": {},
   "outputs": [],
   "source": [
    "x_train, x_test, y_train, y_test = train_test_split(x_train, y_train, test_size=0.11)"
   ]
  },
  {
   "cell_type": "code",
   "execution_count": 164,
   "metadata": {},
   "outputs": [
    {
     "data": {
      "text/plain": [
       "LinearRegression(copy_X=True, fit_intercept=True, n_jobs=None,\n",
       "         normalize=False)"
      ]
     },
     "execution_count": 164,
     "metadata": {},
     "output_type": "execute_result"
    }
   ],
   "source": [
    "#fit the regular linear regressor from sklearn\n",
    "\n",
    "regr = linear_model.LinearRegression()\n",
    "regr.fit(x_train, y_train)"
   ]
  },
  {
   "cell_type": "code",
   "execution_count": 165,
   "metadata": {},
   "outputs": [
    {
     "name": "stdout",
     "output_type": "stream",
     "text": [
      "Mean squared error: 0.02\n",
      "Variance score: -3.20\n"
     ]
    }
   ],
   "source": [
    "#make predictions and compare\n",
    "\n",
    "y_pred = regr.predict(x_train)\n",
    "y_pred_val = regr.predict(x_val)\n",
    "\n",
    "error_val = mean_squared_error(y_val, y_pred_val)\n",
    "error_train = mean_squared_error(y_train, y_pred)\n",
    "\n",
    "#print('Coefficients: \\n', regr.coef_)  #show the weights\n",
    "#show mean squared error\n",
    "print(\"Mean squared error: %.2f\"\n",
    "      % mean_squared_error(y_val, y_pred_val))\n",
    "# Explained variance score: 1 is perfect prediction\n",
    "print('Variance score: %.2f' % r2_score(y_val, y_pred_val))\n",
    "\n",
    "#print((1-error_val)*100)\n",
    "#print((1-error_train)*100)\n",
    "\n"
   ]
  },
  {
   "cell_type": "code",
   "execution_count": 166,
   "metadata": {},
   "outputs": [
    {
     "name": "stdout",
     "output_type": "stream",
     "text": [
      "D-Glucose 6-phosphate;D-Fructose 6-phosphate;beta-D-glucose 6-phosphate\n"
     ]
    },
    {
     "data": {
      "image/png": "[encoded data removed]",
      "text/plain": [
       "<Figure size 864x864 with 2 Axes>"
      ]
     },
     "metadata": {
      "needs_background": "light"
     },
     "output_type": "display_data"
    }
   ],
   "source": [
    "fig = plt.figure(figsize=(12,12))\n",
    "\n",
    "plt.title(print(mutants.columns.get_values()[position]))\n",
    "sub1 = plt.subplot(2,2,1)\n",
    "sub1.set_title('Train Data')\n",
    "plt.scatter(y= y_train, x=y_pred);\n",
    "\n",
    "\n",
    "sub2=plt.subplot(2,2,2)\n",
    "sub2.set_title('Validation Data')\n",
    "plt.scatter(y= y_val, x=y_pred_val);"
   ]
  },
  {
   "cell_type": "markdown",
   "metadata": {},
   "source": [
    "### Cross Validation\n",
    "https://scikit-learn.org/stable/modules/cross_validation.html#cross-validation"
   ]
  },
  {
   "cell_type": "code",
   "execution_count": 167,
   "metadata": {},
   "outputs": [
    {
     "data": {
      "image/png": "[encoded data removed]",
      "text/plain": [
       "<Figure size 432x288 with 1 Axes>"
      ]
     },
     "metadata": {
      "needs_background": "light"
     },
     "output_type": "display_data"
    }
   ],
   "source": [
    "from sklearn.model_selection import cross_val_predict\n",
    "\n",
    "# cross_val_predict returns an array of the same size as `y` where each entry\n",
    "# is a prediction obtained by cross validation:\n",
    "predicted = cross_val_predict(regr, x, y, cv=30)\n",
    "\n",
    "fig, ax = plt.subplots()\n",
    "ax.scatter(y, predicted, edgecolors=(0, 0, 0))\n",
    "ax.plot([y.min(), y.max()], [y.min(), y.max()], 'k--', lw=4)\n",
    "ax.set_xlabel('Measured')\n",
    "ax.set_ylabel('Predicted')\n",
    "plt.show()\n"
   ]
  },
  {
   "cell_type": "code",
   "execution_count": 168,
   "metadata": {},
   "outputs": [],
   "source": [
    "from sklearn.model_selection import cross_val_score"
   ]
  },
  {
   "cell_type": "code",
   "execution_count": 169,
   "metadata": {},
   "outputs": [
    {
     "data": {
      "text/plain": [
       "array([ -4.34731899,  -2.6912695 ,  -4.35439854,  -6.83192634,\n",
       "        -1.18927721,  -2.49522   ,  -0.89740559,  -1.68403668,\n",
       "        -1.01810772,   0.24091372,  -0.1408243 ,  -2.52538431,\n",
       "        -1.45545326,  -1.24980692,  -2.83732093,  -2.45302308,\n",
       "        -1.57926736, -25.18195423,  -0.57080546,  -5.72940153])"
      ]
     },
     "execution_count": 169,
     "metadata": {},
     "output_type": "execute_result"
    }
   ],
   "source": [
    "scores = cross_val_score(regr, x, y, cv=20)\n",
    "scores                                              \n"
   ]
  },
  {
   "cell_type": "code",
   "execution_count": 170,
   "metadata": {},
   "outputs": [
    {
     "name": "stdout",
     "output_type": "stream",
     "text": [
      "Accuracy: -3.45 (+/- 10.58)\n"
     ]
    }
   ],
   "source": [
    "print(\"Accuracy: %0.2f (+/- %0.2f)\" % (scores.mean(), scores.std() * 2))\n"
   ]
  },
  {
   "cell_type": "code",
   "execution_count": 171,
   "metadata": {},
   "outputs": [
    {
     "data": {
      "text/plain": [
       "<BarContainer object of 42 artists>"
      ]
     },
     "execution_count": 171,
     "metadata": {},
     "output_type": "execute_result"
    },
    {
     "data": {
      "image/png": "[encoded data removed]",
      "text/plain": [
       "<Figure size 1728x720 with 1 Axes>"
      ]
     },
     "metadata": {
      "needs_background": "light"
     },
     "output_type": "display_data"
    }
   ],
   "source": [
    "plt.figure(figsize=(24,10))\n",
    "plt.xticks(fontsize = 15, rotation=60)\n",
    "plt.bar(data_variance.columns.get_values(), regr.coef_, )"
   ]
  },
  {
   "cell_type": "code",
   "execution_count": null,
   "metadata": {},
   "outputs": [],
   "source": []
  },
  {
   "cell_type": "code",
   "execution_count": null,
   "metadata": {},
   "outputs": [],
   "source": []
  },
  {
   "cell_type": "code",
   "execution_count": null,
   "metadata": {},
   "outputs": [],
   "source": []
  },
  {
   "cell_type": "code",
   "execution_count": null,
   "metadata": {},
   "outputs": [],
   "source": []
  }
 ],
 "metadata": {
  "kernelspec": {
   "display_name": "Python 3",
   "language": "python",
   "name": "python3"
  },
  "language_info": {
   "codemirror_mode": {
    "name": "ipython",
    "version": 3
   },
   "file_extension": ".py",
   "mimetype": "text/x-python",
   "name": "python",
   "nbconvert_exporter": "python",
   "pygments_lexer": "ipython3",
   "version": "3.6.8"
  }
 },
 "nbformat": 4,
 "nbformat_minor": 2
}
