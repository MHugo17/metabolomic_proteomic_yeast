{
 "cells": [
  {
   "cell_type": "markdown",
   "metadata": {},
   "source": [
    "### Use the models to predict metabolites of some yeast strains and visualize the values"
   ]
  },
  {
   "cell_type": "code",
   "execution_count": 155,
   "metadata": {},
   "outputs": [],
   "source": [
    "import pandas as pd\n",
    "import numpy as np\n",
    "import matplotlib as mpl\n",
    "import matplotlib.pyplot as plt\n",
    "from matplotlib import cm\n",
    "\n",
    "import pickle"
   ]
  },
  {
   "cell_type": "code",
   "execution_count": 156,
   "metadata": {},
   "outputs": [],
   "source": [
    "#LOAD YOUR Dataframe from where to extract metabolite names\n",
    "samples = pd.read_csv('../data/predictions/samples.csv',index_col=0)\n",
    "#LOAD YOUR PROTEOMICS DATA: COLUMNS SHOULD BE PROTEIN-ORFS (www.yeastgenome.org) AND INDEX EACH YEAST STRAIN\n",
    "example = pd.read_csv('../data/predictions/example.csv',index_col=0)"
   ]
  },
  {
   "cell_type": "code",
   "execution_count": 157,
   "metadata": {},
   "outputs": [
    {
     "name": "stdout",
     "output_type": "stream",
     "text": [
      "Glycolysis and PPP!\n"
     ]
    },
    {
     "data": {
      "text/html": [
       "<div>\n",
       "<style scoped>\n",
       "    .dataframe tbody tr th:only-of-type {\n",
       "        vertical-align: middle;\n",
       "    }\n",
       "\n",
       "    .dataframe tbody tr th {\n",
       "        vertical-align: top;\n",
       "    }\n",
       "\n",
       "    .dataframe thead th {\n",
       "        text-align: right;\n",
       "    }\n",
       "</style>\n",
       "<table border=\"1\" class=\"dataframe\">\n",
       "  <thead>\n",
       "    <tr style=\"text-align: right;\">\n",
       "      <th></th>\n",
       "      <th>6-Phospho-D-gluconate</th>\n",
       "      <th>D-Fructose 1,6-bisphosphate</th>\n",
       "      <th>D-Fructose 6-phosphate</th>\n",
       "      <th>D-Glucose</th>\n",
       "      <th>D-Glucose 6-phosphate;D-Fructose 6-phosphate;beta-D-glucose 6-phosphate</th>\n",
       "      <th>D-Xylulose 5-phosphate;D-Ribulose 5-phosphate</th>\n",
       "      <th>Dihydroxyacetone phosphate</th>\n",
       "      <th>Glyceraldehyde 3-phosphate</th>\n",
       "      <th>Phosphoenolpyruvate</th>\n",
       "      <th>Pyruvate</th>\n",
       "      <th>Sedoheptulose 7-phosphate</th>\n",
       "    </tr>\n",
       "  </thead>\n",
       "  <tbody>\n",
       "    <tr>\n",
       "      <th>Strain1</th>\n",
       "      <td>341.675298</td>\n",
       "      <td>11670.411433</td>\n",
       "      <td>15505.291750</td>\n",
       "      <td>18199.191125</td>\n",
       "      <td>16005.090501</td>\n",
       "      <td>1484.957654</td>\n",
       "      <td>4302.115060</td>\n",
       "      <td>648.611269</td>\n",
       "      <td>176.010274</td>\n",
       "      <td>5648.538028</td>\n",
       "      <td>1000.653158</td>\n",
       "    </tr>\n",
       "    <tr>\n",
       "      <th>Strain2</th>\n",
       "      <td>98.352884</td>\n",
       "      <td>1536.526497</td>\n",
       "      <td>1553.542449</td>\n",
       "      <td>15635.394499</td>\n",
       "      <td>14553.772150</td>\n",
       "      <td>1125.487447</td>\n",
       "      <td>0.000000</td>\n",
       "      <td>77.031507</td>\n",
       "      <td>40.437169</td>\n",
       "      <td>6.150755</td>\n",
       "      <td>255.155563</td>\n",
       "    </tr>\n",
       "    <tr>\n",
       "      <th>Strain3</th>\n",
       "      <td>229.970015</td>\n",
       "      <td>10102.414271</td>\n",
       "      <td>9542.022193</td>\n",
       "      <td>13558.272378</td>\n",
       "      <td>12804.115305</td>\n",
       "      <td>957.514356</td>\n",
       "      <td>1495.509418</td>\n",
       "      <td>324.345366</td>\n",
       "      <td>170.274228</td>\n",
       "      <td>5530.953455</td>\n",
       "      <td>779.097139</td>\n",
       "    </tr>\n",
       "    <tr>\n",
       "      <th>Strain4</th>\n",
       "      <td>288.052883</td>\n",
       "      <td>9945.466093</td>\n",
       "      <td>11002.946595</td>\n",
       "      <td>14031.284969</td>\n",
       "      <td>14052.313891</td>\n",
       "      <td>879.204898</td>\n",
       "      <td>2421.806638</td>\n",
       "      <td>410.046284</td>\n",
       "      <td>132.689946</td>\n",
       "      <td>4800.211749</td>\n",
       "      <td>867.525183</td>\n",
       "    </tr>\n",
       "  </tbody>\n",
       "</table>\n",
       "</div>"
      ],
      "text/plain": [
       "         6-Phospho-D-gluconate  D-Fructose 1,6-bisphosphate  \\\n",
       "Strain1             341.675298                 11670.411433   \n",
       "Strain2              98.352884                  1536.526497   \n",
       "Strain3             229.970015                 10102.414271   \n",
       "Strain4             288.052883                  9945.466093   \n",
       "\n",
       "         D-Fructose 6-phosphate     D-Glucose  \\\n",
       "Strain1            15505.291750  18199.191125   \n",
       "Strain2             1553.542449  15635.394499   \n",
       "Strain3             9542.022193  13558.272378   \n",
       "Strain4            11002.946595  14031.284969   \n",
       "\n",
       "         D-Glucose 6-phosphate;D-Fructose 6-phosphate;beta-D-glucose 6-phosphate  \\\n",
       "Strain1                                       16005.090501                         \n",
       "Strain2                                       14553.772150                         \n",
       "Strain3                                       12804.115305                         \n",
       "Strain4                                       14052.313891                         \n",
       "\n",
       "         D-Xylulose 5-phosphate;D-Ribulose 5-phosphate  \\\n",
       "Strain1                                    1484.957654   \n",
       "Strain2                                    1125.487447   \n",
       "Strain3                                     957.514356   \n",
       "Strain4                                     879.204898   \n",
       "\n",
       "         Dihydroxyacetone phosphate  Glyceraldehyde 3-phosphate  \\\n",
       "Strain1                 4302.115060                  648.611269   \n",
       "Strain2                    0.000000                   77.031507   \n",
       "Strain3                 1495.509418                  324.345366   \n",
       "Strain4                 2421.806638                  410.046284   \n",
       "\n",
       "         Phosphoenolpyruvate     Pyruvate  Sedoheptulose 7-phosphate  \n",
       "Strain1           176.010274  5648.538028                1000.653158  \n",
       "Strain2            40.437169     6.150755                 255.155563  \n",
       "Strain3           170.274228  5530.953455                 779.097139  \n",
       "Strain4           132.689946  4800.211749                 867.525183  "
      ]
     },
     "execution_count": 157,
     "metadata": {},
     "output_type": "execute_result"
    }
   ],
   "source": [
    "for position in range(726,738):  #go through model and feature 'filter' for each target\n",
    "\n",
    "#load the featured list for the specific target \n",
    "#(DF with selected features are named according to the iloc in the 'all_data_13.csv' DataFrame)\n",
    "    filename = f'../data/selected features/40/{position}.csv'\n",
    "    features = pd.read_csv(filename,index_col=0).columns.get_values()\n",
    "    features_example = example[features]\n",
    "#load the model for the specific target (models are numbered according to the iloc in the 'all_data_13.csv' DataFrame)\n",
    "    model_filename = f'../models/{position}.sav'\n",
    "    model = pickle.load(open(model_filename, 'rb'))\n",
    "    result = model.predict(features_example)\n",
    "    result = result.clip(min=0)\n",
    "#add the prediction for each metabolite and strain to the dataframe with column name = metabolite name\n",
    "    metabolite_name = samples.columns.get_values()[position]\n",
    "    example[metabolite_name] = pd.Series(list(result), index=example.index)\n",
    "#save the new dataframe \n",
    "example_predictions = example.iloc[:,726:738]\n",
    "filename_example_predictions = '../data/predictions/example_predictions.csv'\n",
    "example_predictions.to_csv(filename_example_predictions, index=True)\n",
    "print('Glycolysis and PPP!')\n",
    "example_predictions\n"
   ]
  },
  {
   "cell_type": "code",
   "execution_count": 158,
   "metadata": {},
   "outputs": [
    {
     "name": "stdout",
     "output_type": "stream",
     "text": [
      "Sedoheptulose 7-phosphate\n"
     ]
    },
    {
     "data": {
      "text/plain": [
       "<BarContainer object of 4 artists>"
      ]
     },
     "execution_count": 158,
     "metadata": {},
     "output_type": "execute_result"
    },
    {
     "data": {
      "image/png": "[encoded data removed]",
      "text/plain": [
       "<Figure size 720x576 with 1 Axes>"
      ]
     },
     "metadata": {
      "needs_background": "light"
     },
     "output_type": "display_data"
    }
   ],
   "source": [
    "position = 10   #from 0 to 11\n",
    "\n",
    "fig = plt.figure(figsize=(10,8))\n",
    "plt.title(print(example_predictions.columns.get_values()[position]))\n",
    "\n",
    "sub1 = plt.subplot(2,2,1)\n",
    "\n",
    "plt.xticks(fontsize = 10, rotation=60)\n",
    "plt.bar(example_predictions.index.get_values(), example_predictions.iloc[:,position])"
   ]
  },
  {
   "cell_type": "code",
   "execution_count": 159,
   "metadata": {},
   "outputs": [
    {
     "name": "stdout",
     "output_type": "stream",
     "text": [
      "3-Phospho-D-glycerate;D-Glycerate 2-phosphate\n",
      "['YAL012W' 'YBR011C' 'YBR084W' 'YBR111C' 'YBR154C' 'YCR002C' 'YDL182W'\n",
      " 'YDR064W' 'YDR533C' 'YER012W' 'YER052C' 'YER089C' 'YFL018C' 'YGL048C'\n",
      " 'YGL062W' 'YGL255W' 'YGR061C' 'YGR086C' 'YGR204W' 'YGR240C' 'YGR254W'\n",
      " 'YHR027C' 'YHR042W' 'YJL001W' 'YJL172W' 'YJL217W' 'YJR109C' 'YKL067W'\n",
      " 'YKL112W' 'YLR061W' 'YLR314C' 'YLR359W' 'YML008C' 'YMR099C' 'YMR186W'\n",
      " 'YNR016C' 'YOL151W' 'YOR007C' 'YOR259C' 'YPL262W']\n"
     ]
    }
   ],
   "source": [
    "#for those interested: check the FEATURES used to predict a metabolite:\n",
    "\n",
    "position = 726 #from 726 to 738...\n",
    "metabolite_name = samples.columns.get_values()[position]\n",
    "filename = f'../data/selected features/40/{position}.csv'\n",
    "features = pd.read_csv(filename,index_col=0).columns.get_values()\n",
    "print(metabolite_name)\n",
    "print(features)"
   ]
  },
  {
   "cell_type": "code",
   "execution_count": null,
   "metadata": {},
   "outputs": [],
   "source": []
  },
  {
   "cell_type": "code",
   "execution_count": null,
   "metadata": {},
   "outputs": [],
   "source": []
  },
  {
   "cell_type": "code",
   "execution_count": null,
   "metadata": {},
   "outputs": [],
   "source": []
  }
 ],
 "metadata": {
  "kernelspec": {
   "display_name": "Python 3",
   "language": "python",
   "name": "python3"
  },
  "language_info": {
   "codemirror_mode": {
    "name": "ipython",
    "version": 3
   },
   "file_extension": ".py",
   "mimetype": "text/x-python",
   "name": "python",
   "nbconvert_exporter": "python",
   "pygments_lexer": "ipython3",
   "version": "3.6.8"
  }
 },
 "nbformat": 4,
 "nbformat_minor": 2
}
