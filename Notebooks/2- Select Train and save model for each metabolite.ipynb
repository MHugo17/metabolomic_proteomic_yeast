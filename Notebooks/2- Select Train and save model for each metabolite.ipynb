{
 "cells": [
  {
   "cell_type": "markdown",
   "metadata": {},
   "source": [
    "### Select features, train, save model for each target"
   ]
  },
  {
   "cell_type": "code",
   "execution_count": 1,
   "metadata": {},
   "outputs": [],
   "source": [
    "import pandas as pd\n",
    "import numpy as np\n",
    "\n",
    "from sklearn import linear_model\n",
    "from sklearn.linear_model import SGDRegressor\n",
    "from sklearn.linear_model import LinearRegression\n",
    "\n",
    "import matplotlib as mpl\n",
    "import matplotlib.pyplot as plt\n",
    "from matplotlib import cm\n",
    "\n",
    "from sklearn.metrics import mean_squared_error, r2_score\n",
    "\n",
    "from sklearn.model_selection import train_test_split\n",
    "\n",
    "import pickle"
   ]
  },
  {
   "cell_type": "code",
   "execution_count": 2,
   "metadata": {},
   "outputs": [
    {
     "data": {
      "text/html": [
       "<div>\n",
       "<style scoped>\n",
       "    .dataframe tbody tr th:only-of-type {\n",
       "        vertical-align: middle;\n",
       "    }\n",
       "\n",
       "    .dataframe tbody tr th {\n",
       "        vertical-align: top;\n",
       "    }\n",
       "\n",
       "    .dataframe thead th {\n",
       "        text-align: right;\n",
       "    }\n",
       "</style>\n",
       "<table border=\"1\" class=\"dataframe\">\n",
       "  <thead>\n",
       "    <tr style=\"text-align: right;\">\n",
       "      <th></th>\n",
       "      <th>YAL003W</th>\n",
       "      <th>YAL005C</th>\n",
       "      <th>YAL007C</th>\n",
       "      <th>YAL012W</th>\n",
       "      <th>YAL035W</th>\n",
       "      <th>YAL038W</th>\n",
       "      <th>YAL042W</th>\n",
       "      <th>YAL044C</th>\n",
       "      <th>YAR002C-A</th>\n",
       "      <th>YAR007C</th>\n",
       "      <th>...</th>\n",
       "      <th>D-Fructose 6-phosphate</th>\n",
       "      <th>D-Glucose</th>\n",
       "      <th>D-Glucose 6-phosphate;D-Fructose 6-phosphate;beta-D-glucose 6-phosphate</th>\n",
       "      <th>D-Xylulose 5-phosphate;D-Ribulose 5-phosphate</th>\n",
       "      <th>Dihydroxyacetone phosphate</th>\n",
       "      <th>Glyceraldehyde 3-phosphate</th>\n",
       "      <th>Phosphoenolpyruvate</th>\n",
       "      <th>Pyruvate</th>\n",
       "      <th>Sedoheptulose 7-phosphate</th>\n",
       "      <th>alpha-D-Ribose 5-phosphate</th>\n",
       "    </tr>\n",
       "  </thead>\n",
       "  <tbody>\n",
       "    <tr>\n",
       "      <th>WT</th>\n",
       "      <td>8.719377</td>\n",
       "      <td>8.960088</td>\n",
       "      <td>5.003403</td>\n",
       "      <td>8.743338</td>\n",
       "      <td>5.370779</td>\n",
       "      <td>10.313125</td>\n",
       "      <td>3.935282</td>\n",
       "      <td>6.812850</td>\n",
       "      <td>6.472343</td>\n",
       "      <td>5.387758</td>\n",
       "      <td>...</td>\n",
       "      <td>5248.663203</td>\n",
       "      <td>16459.030703</td>\n",
       "      <td>14109.667929</td>\n",
       "      <td>921.058392</td>\n",
       "      <td>1758.194055</td>\n",
       "      <td>199.991133</td>\n",
       "      <td>76.375142</td>\n",
       "      <td>2065.592332</td>\n",
       "      <td>474.343120</td>\n",
       "      <td>143.661484</td>\n",
       "    </tr>\n",
       "    <tr>\n",
       "      <th>YAL017W</th>\n",
       "      <td>8.653198</td>\n",
       "      <td>8.824927</td>\n",
       "      <td>5.155914</td>\n",
       "      <td>8.670526</td>\n",
       "      <td>5.374893</td>\n",
       "      <td>10.272428</td>\n",
       "      <td>2.955933</td>\n",
       "      <td>6.961889</td>\n",
       "      <td>6.299363</td>\n",
       "      <td>5.526707</td>\n",
       "      <td>...</td>\n",
       "      <td>13.066836</td>\n",
       "      <td>17002.046210</td>\n",
       "      <td>13710.190749</td>\n",
       "      <td>951.437296</td>\n",
       "      <td>11.132119</td>\n",
       "      <td>6.455504</td>\n",
       "      <td>1.349970</td>\n",
       "      <td>85.700836</td>\n",
       "      <td>79.431617</td>\n",
       "      <td>0.806534</td>\n",
       "    </tr>\n",
       "    <tr>\n",
       "      <th>YAR018C</th>\n",
       "      <td>8.797391</td>\n",
       "      <td>8.550221</td>\n",
       "      <td>4.993235</td>\n",
       "      <td>8.556956</td>\n",
       "      <td>5.578207</td>\n",
       "      <td>10.390911</td>\n",
       "      <td>4.389316</td>\n",
       "      <td>7.254334</td>\n",
       "      <td>6.437292</td>\n",
       "      <td>5.498802</td>\n",
       "      <td>...</td>\n",
       "      <td>19.361500</td>\n",
       "      <td>19919.397972</td>\n",
       "      <td>13448.417525</td>\n",
       "      <td>882.991924</td>\n",
       "      <td>14.230257</td>\n",
       "      <td>5.631380</td>\n",
       "      <td>1.585306</td>\n",
       "      <td>73.672407</td>\n",
       "      <td>108.635344</td>\n",
       "      <td>1.148182</td>\n",
       "    </tr>\n",
       "    <tr>\n",
       "      <th>YBL016W</th>\n",
       "      <td>8.543181</td>\n",
       "      <td>8.691758</td>\n",
       "      <td>4.663340</td>\n",
       "      <td>9.116122</td>\n",
       "      <td>3.596748</td>\n",
       "      <td>9.584951</td>\n",
       "      <td>4.563300</td>\n",
       "      <td>8.003110</td>\n",
       "      <td>6.923137</td>\n",
       "      <td>5.737214</td>\n",
       "      <td>...</td>\n",
       "      <td>11798.792914</td>\n",
       "      <td>17113.405359</td>\n",
       "      <td>11784.749618</td>\n",
       "      <td>654.096269</td>\n",
       "      <td>2116.528559</td>\n",
       "      <td>219.251307</td>\n",
       "      <td>103.318199</td>\n",
       "      <td>3495.661987</td>\n",
       "      <td>727.906677</td>\n",
       "      <td>206.846696</td>\n",
       "    </tr>\n",
       "    <tr>\n",
       "      <th>YBL088C</th>\n",
       "      <td>8.694384</td>\n",
       "      <td>8.763244</td>\n",
       "      <td>4.984653</td>\n",
       "      <td>9.056300</td>\n",
       "      <td>3.682467</td>\n",
       "      <td>9.651980</td>\n",
       "      <td>4.139872</td>\n",
       "      <td>7.229609</td>\n",
       "      <td>6.447050</td>\n",
       "      <td>5.264817</td>\n",
       "      <td>...</td>\n",
       "      <td>16.298688</td>\n",
       "      <td>14304.146218</td>\n",
       "      <td>12071.678784</td>\n",
       "      <td>604.834183</td>\n",
       "      <td>17.417181</td>\n",
       "      <td>8.438564</td>\n",
       "      <td>1.374669</td>\n",
       "      <td>92.136368</td>\n",
       "      <td>81.188838</td>\n",
       "      <td>1.095210</td>\n",
       "    </tr>\n",
       "  </tbody>\n",
       "</table>\n",
       "<p>5 rows × 739 columns</p>\n",
       "</div>"
      ],
      "text/plain": [
       "          YAL003W   YAL005C   YAL007C   YAL012W   YAL035W    YAL038W  \\\n",
       "WT       8.719377  8.960088  5.003403  8.743338  5.370779  10.313125   \n",
       "YAL017W  8.653198  8.824927  5.155914  8.670526  5.374893  10.272428   \n",
       "YAR018C  8.797391  8.550221  4.993235  8.556956  5.578207  10.390911   \n",
       "YBL016W  8.543181  8.691758  4.663340  9.116122  3.596748   9.584951   \n",
       "YBL088C  8.694384  8.763244  4.984653  9.056300  3.682467   9.651980   \n",
       "\n",
       "          YAL042W   YAL044C  YAR002C-A   YAR007C  ...  D-Fructose 6-phosphate  \\\n",
       "WT       3.935282  6.812850   6.472343  5.387758  ...             5248.663203   \n",
       "YAL017W  2.955933  6.961889   6.299363  5.526707  ...               13.066836   \n",
       "YAR018C  4.389316  7.254334   6.437292  5.498802  ...               19.361500   \n",
       "YBL016W  4.563300  8.003110   6.923137  5.737214  ...            11798.792914   \n",
       "YBL088C  4.139872  7.229609   6.447050  5.264817  ...               16.298688   \n",
       "\n",
       "            D-Glucose  \\\n",
       "WT       16459.030703   \n",
       "YAL017W  17002.046210   \n",
       "YAR018C  19919.397972   \n",
       "YBL016W  17113.405359   \n",
       "YBL088C  14304.146218   \n",
       "\n",
       "         D-Glucose 6-phosphate;D-Fructose 6-phosphate;beta-D-glucose 6-phosphate  \\\n",
       "WT                                            14109.667929                         \n",
       "YAL017W                                       13710.190749                         \n",
       "YAR018C                                       13448.417525                         \n",
       "YBL016W                                       11784.749618                         \n",
       "YBL088C                                       12071.678784                         \n",
       "\n",
       "         D-Xylulose 5-phosphate;D-Ribulose 5-phosphate  \\\n",
       "WT                                          921.058392   \n",
       "YAL017W                                     951.437296   \n",
       "YAR018C                                     882.991924   \n",
       "YBL016W                                     654.096269   \n",
       "YBL088C                                     604.834183   \n",
       "\n",
       "         Dihydroxyacetone phosphate  Glyceraldehyde 3-phosphate  \\\n",
       "WT                      1758.194055                  199.991133   \n",
       "YAL017W                   11.132119                    6.455504   \n",
       "YAR018C                   14.230257                    5.631380   \n",
       "YBL016W                 2116.528559                  219.251307   \n",
       "YBL088C                   17.417181                    8.438564   \n",
       "\n",
       "         Phosphoenolpyruvate     Pyruvate  Sedoheptulose 7-phosphate  \\\n",
       "WT                 76.375142  2065.592332                 474.343120   \n",
       "YAL017W             1.349970    85.700836                  79.431617   \n",
       "YAR018C             1.585306    73.672407                 108.635344   \n",
       "YBL016W           103.318199  3495.661987                 727.906677   \n",
       "YBL088C             1.374669    92.136368                  81.188838   \n",
       "\n",
       "         alpha-D-Ribose 5-phosphate  \n",
       "WT                       143.661484  \n",
       "YAL017W                    0.806534  \n",
       "YAR018C                    1.148182  \n",
       "YBL016W                  206.846696  \n",
       "YBL088C                    1.095210  \n",
       "\n",
       "[5 rows x 739 columns]"
      ]
     },
     "execution_count": 2,
     "metadata": {},
     "output_type": "execute_result"
    }
   ],
   "source": [
    "mutants = pd.read_csv('../data/all_data_13.csv',index_col=0)\n",
    "mutants.head(5)"
   ]
  },
  {
   "cell_type": "code",
   "execution_count": 3,
   "metadata": {},
   "outputs": [],
   "source": [
    "#selected_variance = pd.read_csv('../data/selection_variance.csv',index_col=0)\n",
    "#selected_variance.head(5)"
   ]
  },
  {
   "cell_type": "markdown",
   "metadata": {},
   "source": [
    "### Create x and y for a specific Metabolite"
   ]
  },
  {
   "cell_type": "code",
   "execution_count": 4,
   "metadata": {},
   "outputs": [],
   "source": [
    "position = 736  # from 726 to are metabolites"
   ]
  },
  {
   "cell_type": "code",
   "execution_count": 5,
   "metadata": {},
   "outputs": [
    {
     "name": "stdout",
     "output_type": "stream",
     "text": [
      "Example\n",
      "Pyruvate\n"
     ]
    }
   ],
   "source": [
    "#get the name of the column accroding to position\n",
    "print('Example') \n",
    "print(mutants.columns.get_values()[position])"
   ]
  },
  {
   "cell_type": "code",
   "execution_count": 6,
   "metadata": {},
   "outputs": [],
   "source": [
    "#choose metabolite (target) by position\n",
    "\n",
    "x = mutants.iloc[:,0:725]   #stays like this\n",
    "y = mutants.iloc[:,position]\n",
    "#y = y/y.max()"
   ]
  },
  {
   "cell_type": "markdown",
   "metadata": {},
   "source": [
    "### Reduce features according to best individual regression"
   ]
  },
  {
   "cell_type": "code",
   "execution_count": 7,
   "metadata": {},
   "outputs": [],
   "source": [
    "from sklearn.feature_selection import SelectKBest, f_regression"
   ]
  },
  {
   "cell_type": "code",
   "execution_count": 8,
   "metadata": {},
   "outputs": [
    {
     "data": {
      "text/html": [
       "<div>\n",
       "<style scoped>\n",
       "    .dataframe tbody tr th:only-of-type {\n",
       "        vertical-align: middle;\n",
       "    }\n",
       "\n",
       "    .dataframe tbody tr th {\n",
       "        vertical-align: top;\n",
       "    }\n",
       "\n",
       "    .dataframe thead th {\n",
       "        text-align: right;\n",
       "    }\n",
       "</style>\n",
       "<table border=\"1\" class=\"dataframe\">\n",
       "  <thead>\n",
       "    <tr style=\"text-align: right;\">\n",
       "      <th></th>\n",
       "      <th>YAL003W</th>\n",
       "      <th>YAL007C</th>\n",
       "      <th>YAL012W</th>\n",
       "      <th>YAL038W</th>\n",
       "      <th>YAL042W</th>\n",
       "      <th>YAR002C-A</th>\n",
       "      <th>YBL039C</th>\n",
       "      <th>YBR011C</th>\n",
       "      <th>YBR035C</th>\n",
       "      <th>YBR072W</th>\n",
       "      <th>...</th>\n",
       "      <th>YPL143W</th>\n",
       "      <th>YPL160W</th>\n",
       "      <th>YPL226W</th>\n",
       "      <th>YPL231W</th>\n",
       "      <th>YPL262W</th>\n",
       "      <th>YPR028W</th>\n",
       "      <th>YPR074C</th>\n",
       "      <th>YPR110C</th>\n",
       "      <th>YPR118W</th>\n",
       "      <th>YPR163C</th>\n",
       "    </tr>\n",
       "  </thead>\n",
       "  <tbody>\n",
       "    <tr>\n",
       "      <th>WT</th>\n",
       "      <td>8.719377</td>\n",
       "      <td>5.003403</td>\n",
       "      <td>8.743338</td>\n",
       "      <td>10.313125</td>\n",
       "      <td>3.935282</td>\n",
       "      <td>6.472343</td>\n",
       "      <td>5.785767</td>\n",
       "      <td>8.863658</td>\n",
       "      <td>3.627175</td>\n",
       "      <td>8.408026</td>\n",
       "      <td>...</td>\n",
       "      <td>4.041923</td>\n",
       "      <td>7.131108</td>\n",
       "      <td>6.473279</td>\n",
       "      <td>7.950419</td>\n",
       "      <td>7.025441</td>\n",
       "      <td>6.023035</td>\n",
       "      <td>8.496313</td>\n",
       "      <td>5.618231</td>\n",
       "      <td>4.510428</td>\n",
       "      <td>6.617036</td>\n",
       "    </tr>\n",
       "    <tr>\n",
       "      <th>YAL017W</th>\n",
       "      <td>8.653198</td>\n",
       "      <td>5.155914</td>\n",
       "      <td>8.670526</td>\n",
       "      <td>10.272428</td>\n",
       "      <td>2.955933</td>\n",
       "      <td>6.299363</td>\n",
       "      <td>5.724483</td>\n",
       "      <td>8.873437</td>\n",
       "      <td>4.049299</td>\n",
       "      <td>8.308695</td>\n",
       "      <td>...</td>\n",
       "      <td>5.411680</td>\n",
       "      <td>7.183191</td>\n",
       "      <td>6.426876</td>\n",
       "      <td>7.843990</td>\n",
       "      <td>6.845798</td>\n",
       "      <td>5.783396</td>\n",
       "      <td>8.456138</td>\n",
       "      <td>5.600908</td>\n",
       "      <td>4.436561</td>\n",
       "      <td>6.557297</td>\n",
       "    </tr>\n",
       "    <tr>\n",
       "      <th>YAR018C</th>\n",
       "      <td>8.797391</td>\n",
       "      <td>4.993235</td>\n",
       "      <td>8.556956</td>\n",
       "      <td>10.390911</td>\n",
       "      <td>4.389316</td>\n",
       "      <td>6.437292</td>\n",
       "      <td>5.581594</td>\n",
       "      <td>8.765293</td>\n",
       "      <td>4.019213</td>\n",
       "      <td>7.887011</td>\n",
       "      <td>...</td>\n",
       "      <td>4.955012</td>\n",
       "      <td>6.890116</td>\n",
       "      <td>6.304844</td>\n",
       "      <td>7.755970</td>\n",
       "      <td>7.137920</td>\n",
       "      <td>6.033827</td>\n",
       "      <td>8.388259</td>\n",
       "      <td>5.796874</td>\n",
       "      <td>4.594382</td>\n",
       "      <td>6.254297</td>\n",
       "    </tr>\n",
       "    <tr>\n",
       "      <th>YBL016W</th>\n",
       "      <td>8.543181</td>\n",
       "      <td>4.663340</td>\n",
       "      <td>9.116122</td>\n",
       "      <td>9.584951</td>\n",
       "      <td>4.563300</td>\n",
       "      <td>6.923137</td>\n",
       "      <td>5.898318</td>\n",
       "      <td>8.713768</td>\n",
       "      <td>2.987526</td>\n",
       "      <td>8.337730</td>\n",
       "      <td>...</td>\n",
       "      <td>4.837254</td>\n",
       "      <td>7.182479</td>\n",
       "      <td>5.638996</td>\n",
       "      <td>7.000672</td>\n",
       "      <td>6.897313</td>\n",
       "      <td>6.825784</td>\n",
       "      <td>7.360402</td>\n",
       "      <td>6.300766</td>\n",
       "      <td>5.291918</td>\n",
       "      <td>6.169978</td>\n",
       "    </tr>\n",
       "    <tr>\n",
       "      <th>YBL088C</th>\n",
       "      <td>8.694384</td>\n",
       "      <td>4.984653</td>\n",
       "      <td>9.056300</td>\n",
       "      <td>9.651980</td>\n",
       "      <td>4.139872</td>\n",
       "      <td>6.447050</td>\n",
       "      <td>5.454617</td>\n",
       "      <td>8.590212</td>\n",
       "      <td>4.188323</td>\n",
       "      <td>7.913638</td>\n",
       "      <td>...</td>\n",
       "      <td>4.987453</td>\n",
       "      <td>6.669079</td>\n",
       "      <td>5.348219</td>\n",
       "      <td>6.687051</td>\n",
       "      <td>6.675133</td>\n",
       "      <td>5.955741</td>\n",
       "      <td>8.281126</td>\n",
       "      <td>6.106946</td>\n",
       "      <td>4.581871</td>\n",
       "      <td>6.551273</td>\n",
       "    </tr>\n",
       "  </tbody>\n",
       "</table>\n",
       "<p>5 rows × 200 columns</p>\n",
       "</div>"
      ],
      "text/plain": [
       "          YAL003W   YAL007C   YAL012W    YAL038W   YAL042W  YAR002C-A  \\\n",
       "WT       8.719377  5.003403  8.743338  10.313125  3.935282   6.472343   \n",
       "YAL017W  8.653198  5.155914  8.670526  10.272428  2.955933   6.299363   \n",
       "YAR018C  8.797391  4.993235  8.556956  10.390911  4.389316   6.437292   \n",
       "YBL016W  8.543181  4.663340  9.116122   9.584951  4.563300   6.923137   \n",
       "YBL088C  8.694384  4.984653  9.056300   9.651980  4.139872   6.447050   \n",
       "\n",
       "          YBL039C   YBR011C   YBR035C   YBR072W  ...   YPL143W   YPL160W  \\\n",
       "WT       5.785767  8.863658  3.627175  8.408026  ...  4.041923  7.131108   \n",
       "YAL017W  5.724483  8.873437  4.049299  8.308695  ...  5.411680  7.183191   \n",
       "YAR018C  5.581594  8.765293  4.019213  7.887011  ...  4.955012  6.890116   \n",
       "YBL016W  5.898318  8.713768  2.987526  8.337730  ...  4.837254  7.182479   \n",
       "YBL088C  5.454617  8.590212  4.188323  7.913638  ...  4.987453  6.669079   \n",
       "\n",
       "          YPL226W   YPL231W   YPL262W   YPR028W   YPR074C   YPR110C   YPR118W  \\\n",
       "WT       6.473279  7.950419  7.025441  6.023035  8.496313  5.618231  4.510428   \n",
       "YAL017W  6.426876  7.843990  6.845798  5.783396  8.456138  5.600908  4.436561   \n",
       "YAR018C  6.304844  7.755970  7.137920  6.033827  8.388259  5.796874  4.594382   \n",
       "YBL016W  5.638996  7.000672  6.897313  6.825784  7.360402  6.300766  5.291918   \n",
       "YBL088C  5.348219  6.687051  6.675133  5.955741  8.281126  6.106946  4.581871   \n",
       "\n",
       "          YPR163C  \n",
       "WT       6.617036  \n",
       "YAL017W  6.557297  \n",
       "YAR018C  6.254297  \n",
       "YBL016W  6.169978  \n",
       "YBL088C  6.551273  \n",
       "\n",
       "[5 rows x 200 columns]"
      ]
     },
     "execution_count": 8,
     "metadata": {},
     "output_type": "execute_result"
    }
   ],
   "source": [
    "#create, fit selector and get the best (k) features\n",
    "selector = SelectKBest(f_regression, k=200)  #200 chosen after for loop\n",
    "selector.fit(x, y)\n",
    "mask = selector.get_support()\n",
    "new_features = x.columns[mask]\n",
    "new_x = pd.DataFrame(x, columns=new_features)\n",
    "new_x.head()"
   ]
  },
  {
   "cell_type": "code",
   "execution_count": 9,
   "metadata": {},
   "outputs": [],
   "source": [
    "#file_name_selection1 = '../data/selected features/200/data_selection_738_200.csv'\n",
    "#new_x.to_csv(file_name_selection1, index=True)"
   ]
  },
  {
   "cell_type": "markdown",
   "metadata": {},
   "source": [
    "### Apply RFE to the best n features to select according to weight"
   ]
  },
  {
   "cell_type": "code",
   "execution_count": 10,
   "metadata": {},
   "outputs": [],
   "source": [
    "from sklearn.feature_selection import RFE"
   ]
  },
  {
   "cell_type": "code",
   "execution_count": 11,
   "metadata": {},
   "outputs": [
    {
     "data": {
      "text/plain": [
       "LinearRegression(copy_X=True, fit_intercept=True, n_jobs=None,\n",
       "         normalize=False)"
      ]
     },
     "execution_count": 11,
     "metadata": {},
     "output_type": "execute_result"
    }
   ],
   "source": [
    "regr = linear_model.LinearRegression()\n",
    "regr.fit(new_x, y)"
   ]
  },
  {
   "cell_type": "code",
   "execution_count": 12,
   "metadata": {},
   "outputs": [
    {
     "data": {
      "text/plain": [
       "Text(0.5, 1.0, 'Accuracy vs. Features')"
      ]
     },
     "execution_count": 12,
     "metadata": {},
     "output_type": "execute_result"
    },
    {
     "data": {
      "image/png": "[encoded data removed]",
      "text/plain": [
       "<Figure size 1152x432 with 3 Axes>"
      ]
     },
     "metadata": {
      "needs_background": "light"
     },
     "output_type": "display_data"
    }
   ],
   "source": [
    "variance_scores_v = []\n",
    "variance_scores_p = []\n",
    "n_features = []\n",
    "accuracies = []\n",
    "\n",
    "for i in range (1,90): \n",
    "    \n",
    "    selector_2 = RFE(estimator=regr, n_features_to_select= i, step=1)\n",
    "    selector_2.fit(new_x, y)\n",
    "    mask_2 = selector_2.get_support()\n",
    "    new_features_2 = new_x.columns[mask_2]\n",
    "    new_x_2 = pd.DataFrame(new_x, columns=new_features_2)\n",
    "   \n",
    "                      \n",
    "    x_train, x_val, y_train, y_val = train_test_split(new_x_2, y, test_size=0.1)\n",
    "    \n",
    "    regr_reduced = linear_model.LinearRegression()\n",
    "    regr_reduced.fit(x_train, y_train)\n",
    "    \n",
    "    \n",
    "    y_predicted = regr_reduced.predict(x_train)\n",
    "    train_score = r2_score(y_train, y_predicted)\n",
    "    \n",
    "    y_pred_val = regr_reduced.predict(x_val)\n",
    "    val_score = r2_score(y_val, y_pred_val) \n",
    "    \n",
    "    errors = abs(y_pred_val - y_val)\n",
    "    mape = 100 * (errors / y_val)\n",
    "    accuracy = 100 - np.mean(mape)\n",
    "    \n",
    "    \n",
    "    if i % 1 == 0:\n",
    "        n_features.append(i)\n",
    "        variance_scores_v.append(val_score)\n",
    "        variance_scores_p.append(train_score)\n",
    "        accuracies.append(accuracy)\n",
    "        \n",
    "    \n",
    "plt.figure(1, figsize=(16, 6))\n",
    "\n",
    "plt.subplot(1,3,3)\n",
    "plt.plot(n_features, variance_scores_v, color='black') \n",
    "plt.title('Variance_Val vs. Features')\n",
    "plt.subplot(1,3,2)\n",
    "plt.plot(n_features, variance_scores_p, color='black')  \n",
    "plt.title('Variance_Train vs. Features')\n",
    "plt.subplot(1,3,1)\n",
    "plt.plot(n_features, accuracies, color= 'black')\n",
    "plt.title('Accuracy vs. Features')"
   ]
  },
  {
   "cell_type": "code",
   "execution_count": 13,
   "metadata": {},
   "outputs": [
    {
     "data": {
      "text/html": [
       "<div>\n",
       "<style scoped>\n",
       "    .dataframe tbody tr th:only-of-type {\n",
       "        vertical-align: middle;\n",
       "    }\n",
       "\n",
       "    .dataframe tbody tr th {\n",
       "        vertical-align: top;\n",
       "    }\n",
       "\n",
       "    .dataframe thead th {\n",
       "        text-align: right;\n",
       "    }\n",
       "</style>\n",
       "<table border=\"1\" class=\"dataframe\">\n",
       "  <thead>\n",
       "    <tr style=\"text-align: right;\">\n",
       "      <th></th>\n",
       "      <th>YAL007C</th>\n",
       "      <th>YBL039C</th>\n",
       "      <th>YBR011C</th>\n",
       "      <th>YBR072W</th>\n",
       "      <th>YBR084W</th>\n",
       "      <th>YCL037C</th>\n",
       "      <th>YDL100C</th>\n",
       "      <th>YDR019C</th>\n",
       "      <th>YDR032C</th>\n",
       "      <th>YDR064W</th>\n",
       "      <th>...</th>\n",
       "      <th>YMR229C</th>\n",
       "      <th>YMR297W</th>\n",
       "      <th>YMR315W</th>\n",
       "      <th>YNL287W</th>\n",
       "      <th>YOR099W</th>\n",
       "      <th>YOR120W</th>\n",
       "      <th>YOR198C</th>\n",
       "      <th>YPL226W</th>\n",
       "      <th>YPL262W</th>\n",
       "      <th>YPR118W</th>\n",
       "    </tr>\n",
       "  </thead>\n",
       "  <tbody>\n",
       "    <tr>\n",
       "      <th>WT</th>\n",
       "      <td>5.003403</td>\n",
       "      <td>5.785767</td>\n",
       "      <td>8.863658</td>\n",
       "      <td>8.408026</td>\n",
       "      <td>5.620283</td>\n",
       "      <td>5.205248</td>\n",
       "      <td>5.677924</td>\n",
       "      <td>7.085311</td>\n",
       "      <td>7.131971</td>\n",
       "      <td>8.642633</td>\n",
       "      <td>...</td>\n",
       "      <td>4.796013</td>\n",
       "      <td>5.667256</td>\n",
       "      <td>3.567328</td>\n",
       "      <td>5.802699</td>\n",
       "      <td>5.663732</td>\n",
       "      <td>5.055168</td>\n",
       "      <td>6.707148</td>\n",
       "      <td>6.473279</td>\n",
       "      <td>7.025441</td>\n",
       "      <td>4.510428</td>\n",
       "    </tr>\n",
       "    <tr>\n",
       "      <th>YAL017W</th>\n",
       "      <td>5.155914</td>\n",
       "      <td>5.724483</td>\n",
       "      <td>8.873437</td>\n",
       "      <td>8.308695</td>\n",
       "      <td>5.626475</td>\n",
       "      <td>5.660626</td>\n",
       "      <td>5.727943</td>\n",
       "      <td>7.036922</td>\n",
       "      <td>7.011984</td>\n",
       "      <td>8.163425</td>\n",
       "      <td>...</td>\n",
       "      <td>5.057550</td>\n",
       "      <td>5.672953</td>\n",
       "      <td>3.910539</td>\n",
       "      <td>5.522321</td>\n",
       "      <td>5.461585</td>\n",
       "      <td>4.973550</td>\n",
       "      <td>6.964034</td>\n",
       "      <td>6.426876</td>\n",
       "      <td>6.845798</td>\n",
       "      <td>4.436561</td>\n",
       "    </tr>\n",
       "    <tr>\n",
       "      <th>YAR018C</th>\n",
       "      <td>4.993235</td>\n",
       "      <td>5.581594</td>\n",
       "      <td>8.765293</td>\n",
       "      <td>7.887011</td>\n",
       "      <td>5.651666</td>\n",
       "      <td>4.948928</td>\n",
       "      <td>5.574508</td>\n",
       "      <td>7.200973</td>\n",
       "      <td>6.713491</td>\n",
       "      <td>7.936425</td>\n",
       "      <td>...</td>\n",
       "      <td>4.616645</td>\n",
       "      <td>5.557805</td>\n",
       "      <td>4.155543</td>\n",
       "      <td>5.651336</td>\n",
       "      <td>5.447013</td>\n",
       "      <td>4.982194</td>\n",
       "      <td>6.905750</td>\n",
       "      <td>6.304844</td>\n",
       "      <td>7.137920</td>\n",
       "      <td>4.594382</td>\n",
       "    </tr>\n",
       "    <tr>\n",
       "      <th>YBL016W</th>\n",
       "      <td>4.663340</td>\n",
       "      <td>5.898318</td>\n",
       "      <td>8.713768</td>\n",
       "      <td>8.337730</td>\n",
       "      <td>5.503705</td>\n",
       "      <td>6.032080</td>\n",
       "      <td>6.403415</td>\n",
       "      <td>7.621363</td>\n",
       "      <td>6.430852</td>\n",
       "      <td>9.248351</td>\n",
       "      <td>...</td>\n",
       "      <td>4.695754</td>\n",
       "      <td>4.921846</td>\n",
       "      <td>4.035389</td>\n",
       "      <td>5.697981</td>\n",
       "      <td>5.244225</td>\n",
       "      <td>4.871737</td>\n",
       "      <td>6.362462</td>\n",
       "      <td>5.638996</td>\n",
       "      <td>6.897313</td>\n",
       "      <td>5.291918</td>\n",
       "    </tr>\n",
       "    <tr>\n",
       "      <th>YBL088C</th>\n",
       "      <td>4.984653</td>\n",
       "      <td>5.454617</td>\n",
       "      <td>8.590212</td>\n",
       "      <td>7.913638</td>\n",
       "      <td>5.297984</td>\n",
       "      <td>5.764368</td>\n",
       "      <td>6.187831</td>\n",
       "      <td>7.280504</td>\n",
       "      <td>6.724426</td>\n",
       "      <td>9.093854</td>\n",
       "      <td>...</td>\n",
       "      <td>4.021032</td>\n",
       "      <td>5.459692</td>\n",
       "      <td>4.774991</td>\n",
       "      <td>5.553608</td>\n",
       "      <td>5.439361</td>\n",
       "      <td>5.000468</td>\n",
       "      <td>6.289621</td>\n",
       "      <td>5.348219</td>\n",
       "      <td>6.675133</td>\n",
       "      <td>4.581871</td>\n",
       "    </tr>\n",
       "  </tbody>\n",
       "</table>\n",
       "<p>5 rows × 40 columns</p>\n",
       "</div>"
      ],
      "text/plain": [
       "          YAL007C   YBL039C   YBR011C   YBR072W   YBR084W   YCL037C   YDL100C  \\\n",
       "WT       5.003403  5.785767  8.863658  8.408026  5.620283  5.205248  5.677924   \n",
       "YAL017W  5.155914  5.724483  8.873437  8.308695  5.626475  5.660626  5.727943   \n",
       "YAR018C  4.993235  5.581594  8.765293  7.887011  5.651666  4.948928  5.574508   \n",
       "YBL016W  4.663340  5.898318  8.713768  8.337730  5.503705  6.032080  6.403415   \n",
       "YBL088C  4.984653  5.454617  8.590212  7.913638  5.297984  5.764368  6.187831   \n",
       "\n",
       "          YDR019C   YDR032C   YDR064W  ...   YMR229C   YMR297W   YMR315W  \\\n",
       "WT       7.085311  7.131971  8.642633  ...  4.796013  5.667256  3.567328   \n",
       "YAL017W  7.036922  7.011984  8.163425  ...  5.057550  5.672953  3.910539   \n",
       "YAR018C  7.200973  6.713491  7.936425  ...  4.616645  5.557805  4.155543   \n",
       "YBL016W  7.621363  6.430852  9.248351  ...  4.695754  4.921846  4.035389   \n",
       "YBL088C  7.280504  6.724426  9.093854  ...  4.021032  5.459692  4.774991   \n",
       "\n",
       "          YNL287W   YOR099W   YOR120W   YOR198C   YPL226W   YPL262W   YPR118W  \n",
       "WT       5.802699  5.663732  5.055168  6.707148  6.473279  7.025441  4.510428  \n",
       "YAL017W  5.522321  5.461585  4.973550  6.964034  6.426876  6.845798  4.436561  \n",
       "YAR018C  5.651336  5.447013  4.982194  6.905750  6.304844  7.137920  4.594382  \n",
       "YBL016W  5.697981  5.244225  4.871737  6.362462  5.638996  6.897313  5.291918  \n",
       "YBL088C  5.553608  5.439361  5.000468  6.289621  5.348219  6.675133  4.581871  \n",
       "\n",
       "[5 rows x 40 columns]"
      ]
     },
     "execution_count": 13,
     "metadata": {},
     "output_type": "execute_result"
    }
   ],
   "source": [
    "#Reduce to 40\n",
    "\n",
    "selector_2 = RFE(estimator=regr, n_features_to_select=40, step=1)\n",
    "selector_2.fit(new_x, y)\n",
    "mask_2 = selector_2.get_support()\n",
    "new_features_2 = new_x.columns[mask_2]\n",
    "new_x_2 = pd.DataFrame(new_x, columns=new_features_2)\n",
    "new_x_2.head()"
   ]
  },
  {
   "cell_type": "code",
   "execution_count": 14,
   "metadata": {},
   "outputs": [
    {
     "data": {
      "text/plain": [
       "(96, 40)"
      ]
     },
     "execution_count": 14,
     "metadata": {},
     "output_type": "execute_result"
    }
   ],
   "source": [
    "new_x_2.shape"
   ]
  },
  {
   "cell_type": "code",
   "execution_count": 15,
   "metadata": {},
   "outputs": [],
   "source": [
    "#file_name_selection2 = '../data/selected features/40/data_selection_738_40.csv'\n",
    "#new_x_2.to_csv(file_name_selection2, index=True)"
   ]
  },
  {
   "cell_type": "markdown",
   "metadata": {},
   "source": [
    "### correlation between feature and metabolite"
   ]
  },
  {
   "cell_type": "code",
   "execution_count": 16,
   "metadata": {},
   "outputs": [
    {
     "data": {
      "text/plain": [
       "<matplotlib.collections.PathCollection at 0x115ba1048>"
      ]
     },
     "execution_count": 16,
     "metadata": {},
     "output_type": "execute_result"
    },
    {
     "data": {
      "image/png": "[encoded data removed]",
      "text/plain": [
       "<Figure size 432x288 with 1 Axes>"
      ]
     },
     "metadata": {
      "needs_background": "light"
     },
     "output_type": "display_data"
    }
   ],
   "source": [
    "feature = 4\n",
    "plt.scatter(x= new_x_2.iloc[:,feature], y= y)"
   ]
  },
  {
   "cell_type": "markdown",
   "metadata": {},
   "source": [
    "### Train and make predictions with the new Dataset"
   ]
  },
  {
   "cell_type": "code",
   "execution_count": 17,
   "metadata": {},
   "outputs": [],
   "source": [
    "from sklearn.model_selection import train_test_split\n",
    "x_train, x_val, y_train, y_val = train_test_split(new_x_2, y, test_size=0.1)"
   ]
  },
  {
   "cell_type": "code",
   "execution_count": 18,
   "metadata": {},
   "outputs": [],
   "source": [
    "x_train, x_test, y_train, y_test = train_test_split(x_train, y_train, test_size=0.11)"
   ]
  },
  {
   "cell_type": "code",
   "execution_count": 19,
   "metadata": {},
   "outputs": [
    {
     "name": "stdout",
     "output_type": "stream",
     "text": [
      "Mean squared error: 919844.24\n",
      "Variance score: 0.08\n"
     ]
    }
   ],
   "source": [
    "#make predictions and compare\n",
    "\n",
    "\n",
    "regr_738 = linear_model.LinearRegression()\n",
    "regr_738.fit(x_train, y_train)\n",
    "\n",
    "y_pred = regr_738.predict(x_train)\n",
    "y_pred_val = regr_738.predict(x_val)\n",
    "\n",
    "error_val = mean_squared_error(y_val, y_pred_val)\n",
    "error_train = mean_squared_error(y_train, y_pred)\n",
    "\n",
    "#print('Coefficients: \\n', regr.coef_)  #show the weights\n",
    "#show mean squared error\n",
    "print(\"Mean squared error: %.2f\"\n",
    "      % mean_squared_error(y_val, y_pred_val))\n",
    "# Explained variance score: 1 is perfect prediction\n",
    "print('Variance score: %.2f' % r2_score(y_val, y_pred_val))\n",
    "\n",
    "#print((1-error_val)*100)\n",
    "#print((1-error_train)*100)\n",
    "\n"
   ]
  },
  {
   "cell_type": "code",
   "execution_count": 20,
   "metadata": {},
   "outputs": [
    {
     "name": "stdout",
     "output_type": "stream",
     "text": [
      "Pyruvate\n"
     ]
    },
    {
     "data": {
      "image/png": "[encoded data removed]",
      "text/plain": [
       "<Figure size 864x864 with 2 Axes>"
      ]
     },
     "metadata": {
      "needs_background": "light"
     },
     "output_type": "display_data"
    }
   ],
   "source": [
    "fig = plt.figure(figsize=(12,12))\n",
    "\n",
    "plt.title(print(mutants.columns.get_values()[position]))\n",
    "\n",
    "\n",
    "sub1 = plt.subplot(2,2,1)\n",
    "sub1.set_title('Train Data')\n",
    "plt.scatter(y= y_train, x=y_pred);\n",
    "\n",
    "\n",
    "sub2=plt.subplot(2,2,2)\n",
    "sub2.set_title('Validation Data')\n",
    "plt.scatter(y= y_val, x=y_pred_val);"
   ]
  },
  {
   "cell_type": "code",
   "execution_count": 21,
   "metadata": {},
   "outputs": [
    {
     "data": {
      "text/plain": [
       "(96, 40)"
      ]
     },
     "execution_count": 21,
     "metadata": {},
     "output_type": "execute_result"
    }
   ],
   "source": [
    "new_x_2.shape"
   ]
  },
  {
   "cell_type": "code",
   "execution_count": 22,
   "metadata": {},
   "outputs": [
    {
     "data": {
      "text/plain": [
       "(96,)"
      ]
     },
     "execution_count": 22,
     "metadata": {},
     "output_type": "execute_result"
    }
   ],
   "source": [
    "y.shape"
   ]
  },
  {
   "cell_type": "markdown",
   "metadata": {},
   "source": [
    "### Cross Validation\n",
    "https://scikit-learn.org/stable/modules/cross_validation.html#cross-validation"
   ]
  },
  {
   "cell_type": "code",
   "execution_count": 23,
   "metadata": {},
   "outputs": [
    {
     "data": {
      "image/png": "[encoded data removed]",
      "text/plain": [
       "<Figure size 432x288 with 1 Axes>"
      ]
     },
     "metadata": {
      "needs_background": "light"
     },
     "output_type": "display_data"
    }
   ],
   "source": [
    "from sklearn.model_selection import cross_val_predict\n",
    "\n",
    "# cross_val_predict returns an array of the same size as `y` where each entry\n",
    "# is a prediction obtained by cross validation:\n",
    "predicted = cross_val_predict(regr_738, new_x_2, y, cv=50)\n",
    "\n",
    "fig, ax = plt.subplots()\n",
    "ax.scatter(y, predicted, edgecolors=(0, 0, 0))\n",
    "ax.plot([y.min(), y.max()], [y.min(), y.max()], 'k--', lw=4)\n",
    "ax.set_xlabel('Measured')\n",
    "ax.set_ylabel('Predicted')\n",
    "plt.show()\n"
   ]
  },
  {
   "cell_type": "code",
   "execution_count": 24,
   "metadata": {},
   "outputs": [],
   "source": [
    "#model_filename = '../models/738.sav'\n",
    "#pickle.dump(regr_738, open(model_filename, 'wb'))"
   ]
  },
  {
   "cell_type": "markdown",
   "metadata": {},
   "source": [
    "### Accuracy"
   ]
  },
  {
   "cell_type": "code",
   "execution_count": 25,
   "metadata": {},
   "outputs": [
    {
     "name": "stdout",
     "output_type": "stream",
     "text": [
      "Accuracy: 79.8 %.\n"
     ]
    }
   ],
   "source": [
    "errors = abs(y_pred_val - y_val)\n",
    "mape = 100 * (errors / y_val)\n",
    "accuracy = 100 - np.mean(mape)\n",
    "print('Accuracy:', round(accuracy, 2), '%.')"
   ]
  },
  {
   "cell_type": "code",
   "execution_count": 26,
   "metadata": {},
   "outputs": [
    {
     "data": {
      "text/plain": [
       "<BarContainer object of 40 artists>"
      ]
     },
     "execution_count": 26,
     "metadata": {},
     "output_type": "execute_result"
    },
    {
     "data": {
      "image/png": "[encoded data removed]",
      "text/plain": [
       "<Figure size 1728x720 with 1 Axes>"
      ]
     },
     "metadata": {
      "needs_background": "light"
     },
     "output_type": "display_data"
    }
   ],
   "source": [
    "plt.figure(figsize=(24,10))\n",
    "plt.xticks(fontsize = 15, rotation=60)\n",
    "plt.bar(new_x_2.columns.get_values(), regr_738.coef_, )"
   ]
  },
  {
   "cell_type": "code",
   "execution_count": 27,
   "metadata": {},
   "outputs": [
    {
     "data": {
      "text/plain": [
       "array(['YAL007C', 'YBL039C', 'YBR011C', 'YBR072W', 'YBR084W', 'YCL037C',\n",
       "       'YDL100C', 'YDR019C', 'YDR032C', 'YDR064W', 'YDR155C', 'YDR158W',\n",
       "       'YDR321W', 'YDR533C', 'YFR030W', 'YGL026C', 'YGL031C', 'YGL157W',\n",
       "       'YHR174W', 'YIL022W', 'YIL155C', 'YJL066C', 'YJL130C', 'YJR070C',\n",
       "       'YKL112W', 'YLR292C', 'YLR355C', 'YLR438W', 'YML008C', 'YMR120C',\n",
       "       'YMR229C', 'YMR297W', 'YMR315W', 'YNL287W', 'YOR099W', 'YOR120W',\n",
       "       'YOR198C', 'YPL226W', 'YPL262W', 'YPR118W'], dtype=object)"
      ]
     },
     "execution_count": 27,
     "metadata": {},
     "output_type": "execute_result"
    }
   ],
   "source": [
    "new_x_2.columns.get_values()"
   ]
  },
  {
   "cell_type": "code",
   "execution_count": 28,
   "metadata": {},
   "outputs": [],
   "source": [
    "#predictors with biological importance for D-Glucose 6-phosphate\n",
    "\n",
    "#YCL040W Glucokinase\n",
    "#YJL153C  Inositol-3-phosphate synthase\n",
    "#YBR196C Glycolytic enzyme phosphoglucose isomerase\n",
    "#YMR105C  Phosphoglucomutase; catalyzes the conversion from glucose-1-phosphate to glucose-6-phosphate\n",
    "#YNL241C Glucose-6-phosphate dehydrogenase (G6PD)"
   ]
  },
  {
   "cell_type": "code",
   "execution_count": 29,
   "metadata": {},
   "outputs": [],
   "source": [
    "#Create dataframe with the predictors from above"
   ]
  },
  {
   "cell_type": "code",
   "execution_count": 30,
   "metadata": {},
   "outputs": [],
   "source": [
    "predictors = mutants[['YCL040W','YJL153C','YBR196C','YMR105C','YNL241C']]"
   ]
  },
  {
   "cell_type": "code",
   "execution_count": 31,
   "metadata": {},
   "outputs": [
    {
     "data": {
      "text/html": [
       "<div>\n",
       "<style scoped>\n",
       "    .dataframe tbody tr th:only-of-type {\n",
       "        vertical-align: middle;\n",
       "    }\n",
       "\n",
       "    .dataframe tbody tr th {\n",
       "        vertical-align: top;\n",
       "    }\n",
       "\n",
       "    .dataframe thead th {\n",
       "        text-align: right;\n",
       "    }\n",
       "</style>\n",
       "<table border=\"1\" class=\"dataframe\">\n",
       "  <thead>\n",
       "    <tr style=\"text-align: right;\">\n",
       "      <th></th>\n",
       "      <th>YCL040W</th>\n",
       "      <th>YJL153C</th>\n",
       "      <th>YBR196C</th>\n",
       "      <th>YMR105C</th>\n",
       "      <th>YNL241C</th>\n",
       "    </tr>\n",
       "  </thead>\n",
       "  <tbody>\n",
       "    <tr>\n",
       "      <th>WT</th>\n",
       "      <td>8.199483</td>\n",
       "      <td>8.745303</td>\n",
       "      <td>8.602317</td>\n",
       "      <td>6.386305</td>\n",
       "      <td>6.678008</td>\n",
       "    </tr>\n",
       "    <tr>\n",
       "      <th>YAL017W</th>\n",
       "      <td>8.061042</td>\n",
       "      <td>8.148348</td>\n",
       "      <td>8.653857</td>\n",
       "      <td>5.994002</td>\n",
       "      <td>6.240499</td>\n",
       "    </tr>\n",
       "    <tr>\n",
       "      <th>YAR018C</th>\n",
       "      <td>7.965163</td>\n",
       "      <td>7.583946</td>\n",
       "      <td>8.458909</td>\n",
       "      <td>6.078099</td>\n",
       "      <td>6.590718</td>\n",
       "    </tr>\n",
       "    <tr>\n",
       "      <th>YBL016W</th>\n",
       "      <td>7.864156</td>\n",
       "      <td>7.130358</td>\n",
       "      <td>8.541610</td>\n",
       "      <td>5.153374</td>\n",
       "      <td>6.710238</td>\n",
       "    </tr>\n",
       "    <tr>\n",
       "      <th>YBL088C</th>\n",
       "      <td>7.685407</td>\n",
       "      <td>6.882276</td>\n",
       "      <td>8.817238</td>\n",
       "      <td>5.439663</td>\n",
       "      <td>6.787224</td>\n",
       "    </tr>\n",
       "  </tbody>\n",
       "</table>\n",
       "</div>"
      ],
      "text/plain": [
       "          YCL040W   YJL153C   YBR196C   YMR105C   YNL241C\n",
       "WT       8.199483  8.745303  8.602317  6.386305  6.678008\n",
       "YAL017W  8.061042  8.148348  8.653857  5.994002  6.240499\n",
       "YAR018C  7.965163  7.583946  8.458909  6.078099  6.590718\n",
       "YBL016W  7.864156  7.130358  8.541610  5.153374  6.710238\n",
       "YBL088C  7.685407  6.882276  8.817238  5.439663  6.787224"
      ]
     },
     "execution_count": 31,
     "metadata": {},
     "output_type": "execute_result"
    }
   ],
   "source": [
    "predictors.head()"
   ]
  },
  {
   "cell_type": "code",
   "execution_count": 32,
   "metadata": {},
   "outputs": [],
   "source": [
    "all_predictors = pd.concat([predictors, new_x_2], axis=1, sort=False)"
   ]
  },
  {
   "cell_type": "code",
   "execution_count": 33,
   "metadata": {},
   "outputs": [
    {
     "data": {
      "text/html": [
       "<div>\n",
       "<style scoped>\n",
       "    .dataframe tbody tr th:only-of-type {\n",
       "        vertical-align: middle;\n",
       "    }\n",
       "\n",
       "    .dataframe tbody tr th {\n",
       "        vertical-align: top;\n",
       "    }\n",
       "\n",
       "    .dataframe thead th {\n",
       "        text-align: right;\n",
       "    }\n",
       "</style>\n",
       "<table border=\"1\" class=\"dataframe\">\n",
       "  <thead>\n",
       "    <tr style=\"text-align: right;\">\n",
       "      <th></th>\n",
       "      <th>YCL040W</th>\n",
       "      <th>YJL153C</th>\n",
       "      <th>YBR196C</th>\n",
       "      <th>YMR105C</th>\n",
       "      <th>YNL241C</th>\n",
       "      <th>YAL007C</th>\n",
       "      <th>YBL039C</th>\n",
       "      <th>YBR011C</th>\n",
       "      <th>YBR072W</th>\n",
       "      <th>YBR084W</th>\n",
       "      <th>...</th>\n",
       "      <th>YMR229C</th>\n",
       "      <th>YMR297W</th>\n",
       "      <th>YMR315W</th>\n",
       "      <th>YNL287W</th>\n",
       "      <th>YOR099W</th>\n",
       "      <th>YOR120W</th>\n",
       "      <th>YOR198C</th>\n",
       "      <th>YPL226W</th>\n",
       "      <th>YPL262W</th>\n",
       "      <th>YPR118W</th>\n",
       "    </tr>\n",
       "  </thead>\n",
       "  <tbody>\n",
       "    <tr>\n",
       "      <th>WT</th>\n",
       "      <td>8.199483</td>\n",
       "      <td>8.745303</td>\n",
       "      <td>8.602317</td>\n",
       "      <td>6.386305</td>\n",
       "      <td>6.678008</td>\n",
       "      <td>5.003403</td>\n",
       "      <td>5.785767</td>\n",
       "      <td>8.863658</td>\n",
       "      <td>8.408026</td>\n",
       "      <td>5.620283</td>\n",
       "      <td>...</td>\n",
       "      <td>4.796013</td>\n",
       "      <td>5.667256</td>\n",
       "      <td>3.567328</td>\n",
       "      <td>5.802699</td>\n",
       "      <td>5.663732</td>\n",
       "      <td>5.055168</td>\n",
       "      <td>6.707148</td>\n",
       "      <td>6.473279</td>\n",
       "      <td>7.025441</td>\n",
       "      <td>4.510428</td>\n",
       "    </tr>\n",
       "    <tr>\n",
       "      <th>YAL017W</th>\n",
       "      <td>8.061042</td>\n",
       "      <td>8.148348</td>\n",
       "      <td>8.653857</td>\n",
       "      <td>5.994002</td>\n",
       "      <td>6.240499</td>\n",
       "      <td>5.155914</td>\n",
       "      <td>5.724483</td>\n",
       "      <td>8.873437</td>\n",
       "      <td>8.308695</td>\n",
       "      <td>5.626475</td>\n",
       "      <td>...</td>\n",
       "      <td>5.057550</td>\n",
       "      <td>5.672953</td>\n",
       "      <td>3.910539</td>\n",
       "      <td>5.522321</td>\n",
       "      <td>5.461585</td>\n",
       "      <td>4.973550</td>\n",
       "      <td>6.964034</td>\n",
       "      <td>6.426876</td>\n",
       "      <td>6.845798</td>\n",
       "      <td>4.436561</td>\n",
       "    </tr>\n",
       "    <tr>\n",
       "      <th>YAR018C</th>\n",
       "      <td>7.965163</td>\n",
       "      <td>7.583946</td>\n",
       "      <td>8.458909</td>\n",
       "      <td>6.078099</td>\n",
       "      <td>6.590718</td>\n",
       "      <td>4.993235</td>\n",
       "      <td>5.581594</td>\n",
       "      <td>8.765293</td>\n",
       "      <td>7.887011</td>\n",
       "      <td>5.651666</td>\n",
       "      <td>...</td>\n",
       "      <td>4.616645</td>\n",
       "      <td>5.557805</td>\n",
       "      <td>4.155543</td>\n",
       "      <td>5.651336</td>\n",
       "      <td>5.447013</td>\n",
       "      <td>4.982194</td>\n",
       "      <td>6.905750</td>\n",
       "      <td>6.304844</td>\n",
       "      <td>7.137920</td>\n",
       "      <td>4.594382</td>\n",
       "    </tr>\n",
       "    <tr>\n",
       "      <th>YBL016W</th>\n",
       "      <td>7.864156</td>\n",
       "      <td>7.130358</td>\n",
       "      <td>8.541610</td>\n",
       "      <td>5.153374</td>\n",
       "      <td>6.710238</td>\n",
       "      <td>4.663340</td>\n",
       "      <td>5.898318</td>\n",
       "      <td>8.713768</td>\n",
       "      <td>8.337730</td>\n",
       "      <td>5.503705</td>\n",
       "      <td>...</td>\n",
       "      <td>4.695754</td>\n",
       "      <td>4.921846</td>\n",
       "      <td>4.035389</td>\n",
       "      <td>5.697981</td>\n",
       "      <td>5.244225</td>\n",
       "      <td>4.871737</td>\n",
       "      <td>6.362462</td>\n",
       "      <td>5.638996</td>\n",
       "      <td>6.897313</td>\n",
       "      <td>5.291918</td>\n",
       "    </tr>\n",
       "    <tr>\n",
       "      <th>YBL088C</th>\n",
       "      <td>7.685407</td>\n",
       "      <td>6.882276</td>\n",
       "      <td>8.817238</td>\n",
       "      <td>5.439663</td>\n",
       "      <td>6.787224</td>\n",
       "      <td>4.984653</td>\n",
       "      <td>5.454617</td>\n",
       "      <td>8.590212</td>\n",
       "      <td>7.913638</td>\n",
       "      <td>5.297984</td>\n",
       "      <td>...</td>\n",
       "      <td>4.021032</td>\n",
       "      <td>5.459692</td>\n",
       "      <td>4.774991</td>\n",
       "      <td>5.553608</td>\n",
       "      <td>5.439361</td>\n",
       "      <td>5.000468</td>\n",
       "      <td>6.289621</td>\n",
       "      <td>5.348219</td>\n",
       "      <td>6.675133</td>\n",
       "      <td>4.581871</td>\n",
       "    </tr>\n",
       "  </tbody>\n",
       "</table>\n",
       "<p>5 rows × 45 columns</p>\n",
       "</div>"
      ],
      "text/plain": [
       "          YCL040W   YJL153C   YBR196C   YMR105C   YNL241C   YAL007C   YBL039C  \\\n",
       "WT       8.199483  8.745303  8.602317  6.386305  6.678008  5.003403  5.785767   \n",
       "YAL017W  8.061042  8.148348  8.653857  5.994002  6.240499  5.155914  5.724483   \n",
       "YAR018C  7.965163  7.583946  8.458909  6.078099  6.590718  4.993235  5.581594   \n",
       "YBL016W  7.864156  7.130358  8.541610  5.153374  6.710238  4.663340  5.898318   \n",
       "YBL088C  7.685407  6.882276  8.817238  5.439663  6.787224  4.984653  5.454617   \n",
       "\n",
       "          YBR011C   YBR072W   YBR084W  ...   YMR229C   YMR297W   YMR315W  \\\n",
       "WT       8.863658  8.408026  5.620283  ...  4.796013  5.667256  3.567328   \n",
       "YAL017W  8.873437  8.308695  5.626475  ...  5.057550  5.672953  3.910539   \n",
       "YAR018C  8.765293  7.887011  5.651666  ...  4.616645  5.557805  4.155543   \n",
       "YBL016W  8.713768  8.337730  5.503705  ...  4.695754  4.921846  4.035389   \n",
       "YBL088C  8.590212  7.913638  5.297984  ...  4.021032  5.459692  4.774991   \n",
       "\n",
       "          YNL287W   YOR099W   YOR120W   YOR198C   YPL226W   YPL262W   YPR118W  \n",
       "WT       5.802699  5.663732  5.055168  6.707148  6.473279  7.025441  4.510428  \n",
       "YAL017W  5.522321  5.461585  4.973550  6.964034  6.426876  6.845798  4.436561  \n",
       "YAR018C  5.651336  5.447013  4.982194  6.905750  6.304844  7.137920  4.594382  \n",
       "YBL016W  5.697981  5.244225  4.871737  6.362462  5.638996  6.897313  5.291918  \n",
       "YBL088C  5.553608  5.439361  5.000468  6.289621  5.348219  6.675133  4.581871  \n",
       "\n",
       "[5 rows x 45 columns]"
      ]
     },
     "execution_count": 33,
     "metadata": {},
     "output_type": "execute_result"
    }
   ],
   "source": [
    "all_predictors.head(5)"
   ]
  },
  {
   "cell_type": "markdown",
   "metadata": {},
   "source": [
    "### Train and make predictions with all_predictors"
   ]
  },
  {
   "cell_type": "code",
   "execution_count": 34,
   "metadata": {},
   "outputs": [],
   "source": [
    "from sklearn.model_selection import train_test_split\n",
    "x_train, x_val, y_train, y_val = train_test_split(all_predictors, y, test_size=0.1)"
   ]
  },
  {
   "cell_type": "code",
   "execution_count": 35,
   "metadata": {},
   "outputs": [],
   "source": [
    "x_train, x_test, y_train, y_test = train_test_split(x_train, y_train, test_size=0.11)"
   ]
  },
  {
   "cell_type": "code",
   "execution_count": 36,
   "metadata": {},
   "outputs": [
    {
     "name": "stdout",
     "output_type": "stream",
     "text": [
      "Mean squared error: 488991.28\n",
      "Variance score: 0.89\n"
     ]
    }
   ],
   "source": [
    "#make predictions and compare\n",
    "\n",
    "\n",
    "regr_3 = linear_model.LinearRegression()\n",
    "regr_3.fit(x_train, y_train)\n",
    "\n",
    "y_pred = regr_3.predict(x_train)\n",
    "y_pred_val = regr_3.predict(x_val)\n",
    "\n",
    "error_val = mean_squared_error(y_val, y_pred_val)\n",
    "error_train = mean_squared_error(y_train, y_pred)\n",
    "\n",
    "#print('Coefficients: \\n', regr.coef_)  #show the weights\n",
    "#show mean squared error\n",
    "print(\"Mean squared error: %.2f\"\n",
    "      % mean_squared_error(y_val, y_pred_val))\n",
    "# Explained variance score: 1 is perfect prediction\n",
    "print('Variance score: %.2f' % r2_score(y_val, y_pred_val))\n",
    "\n",
    "#print((1-error_val)*100)\n",
    "#print((1-error_train)*100)"
   ]
  },
  {
   "cell_type": "code",
   "execution_count": 37,
   "metadata": {},
   "outputs": [
    {
     "name": "stdout",
     "output_type": "stream",
     "text": [
      "Pyruvate\n"
     ]
    },
    {
     "data": {
      "image/png": "[encoded data removed]",
      "text/plain": [
       "<Figure size 864x864 with 2 Axes>"
      ]
     },
     "metadata": {
      "needs_background": "light"
     },
     "output_type": "display_data"
    }
   ],
   "source": [
    "fig = plt.figure(figsize=(12,12))\n",
    "\n",
    "plt.title(print(mutants.columns.get_values()[position]))\n",
    "\n",
    "\n",
    "sub1 = plt.subplot(2,2,1)\n",
    "sub1.set_title('Train Data')\n",
    "plt.scatter(y= y_train, x=y_pred);\n",
    "\n",
    "\n",
    "sub2=plt.subplot(2,2,2)\n",
    "sub2.set_title('Validation Data')\n",
    "plt.scatter(y= y_val, x=y_pred_val);"
   ]
  },
  {
   "cell_type": "code",
   "execution_count": 38,
   "metadata": {},
   "outputs": [
    {
     "data": {
      "image/png": "[encoded data removed]",
      "text/plain": [
       "<Figure size 432x288 with 1 Axes>"
      ]
     },
     "metadata": {
      "needs_background": "light"
     },
     "output_type": "display_data"
    }
   ],
   "source": [
    "from sklearn.model_selection import cross_val_predict\n",
    "\n",
    "# cross_val_predict returns an array of the same size as `y` where each entry\n",
    "# is a prediction obtained by cross validation:\n",
    "predicted = cross_val_predict(regr_3, all_predictors, y, cv=50)\n",
    "\n",
    "fig, ax = plt.subplots()\n",
    "ax.scatter(y, predicted, edgecolors=(0, 0, 0))\n",
    "ax.plot([y.min(), y.max()], [y.min(), y.max()], 'k--', lw=4)\n",
    "ax.set_xlabel('Measured')\n",
    "ax.set_ylabel('Predicted')\n",
    "plt.show()"
   ]
  },
  {
   "cell_type": "code",
   "execution_count": 39,
   "metadata": {},
   "outputs": [
    {
     "name": "stdout",
     "output_type": "stream",
     "text": [
      "Accuracy: 25.16 %.\n"
     ]
    }
   ],
   "source": [
    "errors = abs(y_pred_val - y_val)\n",
    "mape = 100 * (errors / y_val)\n",
    "accuracy = 100 - np.mean(mape)\n",
    "print('Accuracy:', round(accuracy, 2), '%.')"
   ]
  },
  {
   "cell_type": "code",
   "execution_count": 40,
   "metadata": {},
   "outputs": [
    {
     "data": {
      "text/plain": [
       "<BarContainer object of 45 artists>"
      ]
     },
     "execution_count": 40,
     "metadata": {},
     "output_type": "execute_result"
    },
    {
     "data": {
      "image/png": "[encoded data removed]",
      "text/plain": [
       "<Figure size 1728x720 with 1 Axes>"
      ]
     },
     "metadata": {
      "needs_background": "light"
     },
     "output_type": "display_data"
    }
   ],
   "source": [
    "plt.figure(figsize=(24,10))\n",
    "plt.xticks(fontsize = 15, rotation=60)\n",
    "plt.bar(all_predictors.columns.get_values(), regr_3.coef_, )\n"
   ]
  },
  {
   "cell_type": "code",
   "execution_count": null,
   "metadata": {},
   "outputs": [],
   "source": []
  },
  {
   "cell_type": "code",
   "execution_count": 41,
   "metadata": {},
   "outputs": [],
   "source": [
    "# What are the targets (proteins) that all these metabolites have in common?\n",
    "#what have the metabolites (targets) in common?"
   ]
  },
  {
   "cell_type": "code",
   "execution_count": null,
   "metadata": {},
   "outputs": [],
   "source": []
  }
 ],
 "metadata": {
  "kernelspec": {
   "display_name": "Python 3",
   "language": "python",
   "name": "python3"
  },
  "language_info": {
   "codemirror_mode": {
    "name": "ipython",
    "version": 3
   },
   "file_extension": ".py",
   "mimetype": "text/x-python",
   "name": "python",
   "nbconvert_exporter": "python",
   "pygments_lexer": "ipython3",
   "version": "3.6.8"
  }
 },
 "nbformat": 4,
 "nbformat_minor": 2
}
