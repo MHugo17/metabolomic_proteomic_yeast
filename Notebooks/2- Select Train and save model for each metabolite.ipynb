{
 "cells": [
  {
   "cell_type": "markdown",
   "metadata": {},
   "source": [
    "### Select features, train, save model for each target"
   ]
  },
  {
   "cell_type": "code",
   "execution_count": 1,
   "metadata": {},
   "outputs": [],
   "source": [
    "import pandas as pd\n",
    "import numpy as np\n",
    "\n",
    "from sklearn import linear_model\n",
    "from sklearn.linear_model import SGDRegressor\n",
    "from sklearn.linear_model import LinearRegression\n",
    "\n",
    "import matplotlib as mpl\n",
    "import matplotlib.pyplot as plt\n",
    "from matplotlib import cm\n",
    "\n",
    "from sklearn.metrics import mean_squared_error, r2_score\n",
    "\n",
    "from sklearn.model_selection import train_test_split\n",
    "\n",
    "import pickle"
   ]
  },
  {
   "cell_type": "code",
   "execution_count": 2,
   "metadata": {},
   "outputs": [
    {
     "data": {
      "text/html": [
       "<div>\n",
       "<style scoped>\n",
       "    .dataframe tbody tr th:only-of-type {\n",
       "        vertical-align: middle;\n",
       "    }\n",
       "\n",
       "    .dataframe tbody tr th {\n",
       "        vertical-align: top;\n",
       "    }\n",
       "\n",
       "    .dataframe thead th {\n",
       "        text-align: right;\n",
       "    }\n",
       "</style>\n",
       "<table border=\"1\" class=\"dataframe\">\n",
       "  <thead>\n",
       "    <tr style=\"text-align: right;\">\n",
       "      <th></th>\n",
       "      <th>YAL003W</th>\n",
       "      <th>YAL005C</th>\n",
       "      <th>YAL007C</th>\n",
       "      <th>YAL012W</th>\n",
       "      <th>YAL035W</th>\n",
       "      <th>YAL038W</th>\n",
       "      <th>YAL042W</th>\n",
       "      <th>YAL044C</th>\n",
       "      <th>YAR002C-A</th>\n",
       "      <th>YAR007C</th>\n",
       "      <th>...</th>\n",
       "      <th>D-Fructose 6-phosphate</th>\n",
       "      <th>D-Glucose</th>\n",
       "      <th>D-Glucose 6-phosphate;D-Fructose 6-phosphate;beta-D-glucose 6-phosphate</th>\n",
       "      <th>D-Xylulose 5-phosphate;D-Ribulose 5-phosphate</th>\n",
       "      <th>Dihydroxyacetone phosphate</th>\n",
       "      <th>Glyceraldehyde 3-phosphate</th>\n",
       "      <th>Phosphoenolpyruvate</th>\n",
       "      <th>Pyruvate</th>\n",
       "      <th>Sedoheptulose 7-phosphate</th>\n",
       "      <th>alpha-D-Ribose 5-phosphate</th>\n",
       "    </tr>\n",
       "  </thead>\n",
       "  <tbody>\n",
       "    <tr>\n",
       "      <th>WT</th>\n",
       "      <td>8.719377</td>\n",
       "      <td>8.960088</td>\n",
       "      <td>5.003403</td>\n",
       "      <td>8.743338</td>\n",
       "      <td>5.370779</td>\n",
       "      <td>10.313125</td>\n",
       "      <td>3.935282</td>\n",
       "      <td>6.812850</td>\n",
       "      <td>6.472343</td>\n",
       "      <td>5.387758</td>\n",
       "      <td>...</td>\n",
       "      <td>5248.663203</td>\n",
       "      <td>16459.030703</td>\n",
       "      <td>14109.667929</td>\n",
       "      <td>921.058392</td>\n",
       "      <td>1758.194055</td>\n",
       "      <td>199.991133</td>\n",
       "      <td>76.375142</td>\n",
       "      <td>2065.592332</td>\n",
       "      <td>474.343120</td>\n",
       "      <td>143.661484</td>\n",
       "    </tr>\n",
       "    <tr>\n",
       "      <th>YAL017W</th>\n",
       "      <td>8.653198</td>\n",
       "      <td>8.824927</td>\n",
       "      <td>5.155914</td>\n",
       "      <td>8.670526</td>\n",
       "      <td>5.374893</td>\n",
       "      <td>10.272428</td>\n",
       "      <td>2.955933</td>\n",
       "      <td>6.961889</td>\n",
       "      <td>6.299363</td>\n",
       "      <td>5.526707</td>\n",
       "      <td>...</td>\n",
       "      <td>13.066836</td>\n",
       "      <td>17002.046210</td>\n",
       "      <td>13710.190749</td>\n",
       "      <td>951.437296</td>\n",
       "      <td>11.132119</td>\n",
       "      <td>6.455504</td>\n",
       "      <td>1.349970</td>\n",
       "      <td>85.700836</td>\n",
       "      <td>79.431617</td>\n",
       "      <td>0.806534</td>\n",
       "    </tr>\n",
       "    <tr>\n",
       "      <th>YAR018C</th>\n",
       "      <td>8.797391</td>\n",
       "      <td>8.550221</td>\n",
       "      <td>4.993235</td>\n",
       "      <td>8.556956</td>\n",
       "      <td>5.578207</td>\n",
       "      <td>10.390911</td>\n",
       "      <td>4.389316</td>\n",
       "      <td>7.254334</td>\n",
       "      <td>6.437292</td>\n",
       "      <td>5.498802</td>\n",
       "      <td>...</td>\n",
       "      <td>19.361500</td>\n",
       "      <td>19919.397972</td>\n",
       "      <td>13448.417525</td>\n",
       "      <td>882.991924</td>\n",
       "      <td>14.230257</td>\n",
       "      <td>5.631380</td>\n",
       "      <td>1.585306</td>\n",
       "      <td>73.672407</td>\n",
       "      <td>108.635344</td>\n",
       "      <td>1.148182</td>\n",
       "    </tr>\n",
       "    <tr>\n",
       "      <th>YBL016W</th>\n",
       "      <td>8.543181</td>\n",
       "      <td>8.691758</td>\n",
       "      <td>4.663340</td>\n",
       "      <td>9.116122</td>\n",
       "      <td>3.596748</td>\n",
       "      <td>9.584951</td>\n",
       "      <td>4.563300</td>\n",
       "      <td>8.003110</td>\n",
       "      <td>6.923137</td>\n",
       "      <td>5.737214</td>\n",
       "      <td>...</td>\n",
       "      <td>11798.792914</td>\n",
       "      <td>17113.405359</td>\n",
       "      <td>11784.749618</td>\n",
       "      <td>654.096269</td>\n",
       "      <td>2116.528559</td>\n",
       "      <td>219.251307</td>\n",
       "      <td>103.318199</td>\n",
       "      <td>3495.661987</td>\n",
       "      <td>727.906677</td>\n",
       "      <td>206.846696</td>\n",
       "    </tr>\n",
       "    <tr>\n",
       "      <th>YBL088C</th>\n",
       "      <td>8.694384</td>\n",
       "      <td>8.763244</td>\n",
       "      <td>4.984653</td>\n",
       "      <td>9.056300</td>\n",
       "      <td>3.682467</td>\n",
       "      <td>9.651980</td>\n",
       "      <td>4.139872</td>\n",
       "      <td>7.229609</td>\n",
       "      <td>6.447050</td>\n",
       "      <td>5.264817</td>\n",
       "      <td>...</td>\n",
       "      <td>16.298688</td>\n",
       "      <td>14304.146218</td>\n",
       "      <td>12071.678784</td>\n",
       "      <td>604.834183</td>\n",
       "      <td>17.417181</td>\n",
       "      <td>8.438564</td>\n",
       "      <td>1.374669</td>\n",
       "      <td>92.136368</td>\n",
       "      <td>81.188838</td>\n",
       "      <td>1.095210</td>\n",
       "    </tr>\n",
       "  </tbody>\n",
       "</table>\n",
       "<p>5 rows × 739 columns</p>\n",
       "</div>"
      ],
      "text/plain": [
       "          YAL003W   YAL005C   YAL007C   YAL012W   YAL035W    YAL038W  \\\n",
       "WT       8.719377  8.960088  5.003403  8.743338  5.370779  10.313125   \n",
       "YAL017W  8.653198  8.824927  5.155914  8.670526  5.374893  10.272428   \n",
       "YAR018C  8.797391  8.550221  4.993235  8.556956  5.578207  10.390911   \n",
       "YBL016W  8.543181  8.691758  4.663340  9.116122  3.596748   9.584951   \n",
       "YBL088C  8.694384  8.763244  4.984653  9.056300  3.682467   9.651980   \n",
       "\n",
       "          YAL042W   YAL044C  YAR002C-A   YAR007C  ...  D-Fructose 6-phosphate  \\\n",
       "WT       3.935282  6.812850   6.472343  5.387758  ...             5248.663203   \n",
       "YAL017W  2.955933  6.961889   6.299363  5.526707  ...               13.066836   \n",
       "YAR018C  4.389316  7.254334   6.437292  5.498802  ...               19.361500   \n",
       "YBL016W  4.563300  8.003110   6.923137  5.737214  ...            11798.792914   \n",
       "YBL088C  4.139872  7.229609   6.447050  5.264817  ...               16.298688   \n",
       "\n",
       "            D-Glucose  \\\n",
       "WT       16459.030703   \n",
       "YAL017W  17002.046210   \n",
       "YAR018C  19919.397972   \n",
       "YBL016W  17113.405359   \n",
       "YBL088C  14304.146218   \n",
       "\n",
       "         D-Glucose 6-phosphate;D-Fructose 6-phosphate;beta-D-glucose 6-phosphate  \\\n",
       "WT                                            14109.667929                         \n",
       "YAL017W                                       13710.190749                         \n",
       "YAR018C                                       13448.417525                         \n",
       "YBL016W                                       11784.749618                         \n",
       "YBL088C                                       12071.678784                         \n",
       "\n",
       "         D-Xylulose 5-phosphate;D-Ribulose 5-phosphate  \\\n",
       "WT                                          921.058392   \n",
       "YAL017W                                     951.437296   \n",
       "YAR018C                                     882.991924   \n",
       "YBL016W                                     654.096269   \n",
       "YBL088C                                     604.834183   \n",
       "\n",
       "         Dihydroxyacetone phosphate  Glyceraldehyde 3-phosphate  \\\n",
       "WT                      1758.194055                  199.991133   \n",
       "YAL017W                   11.132119                    6.455504   \n",
       "YAR018C                   14.230257                    5.631380   \n",
       "YBL016W                 2116.528559                  219.251307   \n",
       "YBL088C                   17.417181                    8.438564   \n",
       "\n",
       "         Phosphoenolpyruvate     Pyruvate  Sedoheptulose 7-phosphate  \\\n",
       "WT                 76.375142  2065.592332                 474.343120   \n",
       "YAL017W             1.349970    85.700836                  79.431617   \n",
       "YAR018C             1.585306    73.672407                 108.635344   \n",
       "YBL016W           103.318199  3495.661987                 727.906677   \n",
       "YBL088C             1.374669    92.136368                  81.188838   \n",
       "\n",
       "         alpha-D-Ribose 5-phosphate  \n",
       "WT                       143.661484  \n",
       "YAL017W                    0.806534  \n",
       "YAR018C                    1.148182  \n",
       "YBL016W                  206.846696  \n",
       "YBL088C                    1.095210  \n",
       "\n",
       "[5 rows x 739 columns]"
      ]
     },
     "execution_count": 2,
     "metadata": {},
     "output_type": "execute_result"
    }
   ],
   "source": [
    "mutants = pd.read_csv('../data/all_data_13.csv',index_col=0)\n",
    "mutants.head(5)"
   ]
  },
  {
   "cell_type": "code",
   "execution_count": 3,
   "metadata": {},
   "outputs": [],
   "source": [
    "#selected_variance = pd.read_csv('../data/selection_variance.csv',index_col=0)\n",
    "#selected_variance.head(5)"
   ]
  },
  {
   "cell_type": "markdown",
   "metadata": {},
   "source": [
    "### Create x and y for a specific Metabolite"
   ]
  },
  {
   "cell_type": "code",
   "execution_count": 4,
   "metadata": {},
   "outputs": [],
   "source": [
    "position = 731  # from 726 to are metabolites"
   ]
  },
  {
   "cell_type": "code",
   "execution_count": 5,
   "metadata": {},
   "outputs": [
    {
     "name": "stdout",
     "output_type": "stream",
     "text": [
      "Example\n",
      "D-Glucose 6-phosphate;D-Fructose 6-phosphate;beta-D-glucose 6-phosphate\n"
     ]
    }
   ],
   "source": [
    "#get the name of the column accroding to position\n",
    "print('Example') \n",
    "print(mutants.columns.get_values()[position])"
   ]
  },
  {
   "cell_type": "code",
   "execution_count": 6,
   "metadata": {},
   "outputs": [],
   "source": [
    "#choose metabolite (target) by position\n",
    "\n",
    "x = mutants.iloc[:,0:725]   #stays like this\n",
    "y = mutants.iloc[:,position]\n",
    "#y = y/y.max()"
   ]
  },
  {
   "cell_type": "markdown",
   "metadata": {},
   "source": [
    "### Reduce features according to best individual regression"
   ]
  },
  {
   "cell_type": "code",
   "execution_count": 7,
   "metadata": {},
   "outputs": [],
   "source": [
    "from sklearn.feature_selection import SelectKBest, f_regression"
   ]
  },
  {
   "cell_type": "code",
   "execution_count": 8,
   "metadata": {},
   "outputs": [
    {
     "data": {
      "text/html": [
       "<div>\n",
       "<style scoped>\n",
       "    .dataframe tbody tr th:only-of-type {\n",
       "        vertical-align: middle;\n",
       "    }\n",
       "\n",
       "    .dataframe tbody tr th {\n",
       "        vertical-align: top;\n",
       "    }\n",
       "\n",
       "    .dataframe thead th {\n",
       "        text-align: right;\n",
       "    }\n",
       "</style>\n",
       "<table border=\"1\" class=\"dataframe\">\n",
       "  <thead>\n",
       "    <tr style=\"text-align: right;\">\n",
       "      <th></th>\n",
       "      <th>YAL012W</th>\n",
       "      <th>YAL035W</th>\n",
       "      <th>YAL044C</th>\n",
       "      <th>YAR002C-A</th>\n",
       "      <th>YAR015W</th>\n",
       "      <th>YBL026W</th>\n",
       "      <th>YBR085C-A</th>\n",
       "      <th>YBR089C-A</th>\n",
       "      <th>YBR106W</th>\n",
       "      <th>YBR111C</th>\n",
       "      <th>...</th>\n",
       "      <th>YPL160W</th>\n",
       "      <th>YPL218W</th>\n",
       "      <th>YPL225W</th>\n",
       "      <th>YPL231W</th>\n",
       "      <th>YPR033C</th>\n",
       "      <th>YPR035W</th>\n",
       "      <th>YPR036W</th>\n",
       "      <th>YPR074C</th>\n",
       "      <th>YPR103W</th>\n",
       "      <th>YPR165W</th>\n",
       "    </tr>\n",
       "  </thead>\n",
       "  <tbody>\n",
       "    <tr>\n",
       "      <th>WT</th>\n",
       "      <td>8.743338</td>\n",
       "      <td>5.370779</td>\n",
       "      <td>6.812850</td>\n",
       "      <td>6.472343</td>\n",
       "      <td>7.579128</td>\n",
       "      <td>5.405962</td>\n",
       "      <td>4.211866</td>\n",
       "      <td>5.762258</td>\n",
       "      <td>5.383726</td>\n",
       "      <td>5.007851</td>\n",
       "      <td>...</td>\n",
       "      <td>7.131108</td>\n",
       "      <td>7.735359</td>\n",
       "      <td>5.025493</td>\n",
       "      <td>7.950419</td>\n",
       "      <td>6.687075</td>\n",
       "      <td>7.312082</td>\n",
       "      <td>6.652176</td>\n",
       "      <td>8.496313</td>\n",
       "      <td>5.812644</td>\n",
       "      <td>6.990033</td>\n",
       "    </tr>\n",
       "    <tr>\n",
       "      <th>YAL017W</th>\n",
       "      <td>8.670526</td>\n",
       "      <td>5.374893</td>\n",
       "      <td>6.961889</td>\n",
       "      <td>6.299363</td>\n",
       "      <td>7.622924</td>\n",
       "      <td>5.359329</td>\n",
       "      <td>4.204216</td>\n",
       "      <td>5.624497</td>\n",
       "      <td>5.419867</td>\n",
       "      <td>5.345102</td>\n",
       "      <td>...</td>\n",
       "      <td>7.183191</td>\n",
       "      <td>7.744732</td>\n",
       "      <td>4.656182</td>\n",
       "      <td>7.843990</td>\n",
       "      <td>6.522794</td>\n",
       "      <td>7.642587</td>\n",
       "      <td>6.472836</td>\n",
       "      <td>8.456138</td>\n",
       "      <td>5.874653</td>\n",
       "      <td>6.827223</td>\n",
       "    </tr>\n",
       "    <tr>\n",
       "      <th>YAR018C</th>\n",
       "      <td>8.556956</td>\n",
       "      <td>5.578207</td>\n",
       "      <td>7.254334</td>\n",
       "      <td>6.437292</td>\n",
       "      <td>7.712280</td>\n",
       "      <td>5.295463</td>\n",
       "      <td>5.044604</td>\n",
       "      <td>5.674102</td>\n",
       "      <td>4.968507</td>\n",
       "      <td>4.755656</td>\n",
       "      <td>...</td>\n",
       "      <td>6.890116</td>\n",
       "      <td>7.722752</td>\n",
       "      <td>4.958785</td>\n",
       "      <td>7.755970</td>\n",
       "      <td>6.595939</td>\n",
       "      <td>7.724236</td>\n",
       "      <td>6.529917</td>\n",
       "      <td>8.388259</td>\n",
       "      <td>5.747122</td>\n",
       "      <td>7.033319</td>\n",
       "    </tr>\n",
       "    <tr>\n",
       "      <th>YBL016W</th>\n",
       "      <td>9.116122</td>\n",
       "      <td>3.596748</td>\n",
       "      <td>8.003110</td>\n",
       "      <td>6.923137</td>\n",
       "      <td>7.560972</td>\n",
       "      <td>5.909985</td>\n",
       "      <td>4.302803</td>\n",
       "      <td>6.662682</td>\n",
       "      <td>4.357893</td>\n",
       "      <td>5.981816</td>\n",
       "      <td>...</td>\n",
       "      <td>7.182479</td>\n",
       "      <td>7.399766</td>\n",
       "      <td>2.869029</td>\n",
       "      <td>7.000672</td>\n",
       "      <td>6.975286</td>\n",
       "      <td>8.027934</td>\n",
       "      <td>6.497148</td>\n",
       "      <td>7.360402</td>\n",
       "      <td>6.134415</td>\n",
       "      <td>6.653605</td>\n",
       "    </tr>\n",
       "    <tr>\n",
       "      <th>YBL088C</th>\n",
       "      <td>9.056300</td>\n",
       "      <td>3.682467</td>\n",
       "      <td>7.229609</td>\n",
       "      <td>6.447050</td>\n",
       "      <td>7.733115</td>\n",
       "      <td>5.052274</td>\n",
       "      <td>4.628696</td>\n",
       "      <td>5.760721</td>\n",
       "      <td>5.157177</td>\n",
       "      <td>5.509176</td>\n",
       "      <td>...</td>\n",
       "      <td>6.669079</td>\n",
       "      <td>7.550100</td>\n",
       "      <td>4.338337</td>\n",
       "      <td>6.687051</td>\n",
       "      <td>6.683923</td>\n",
       "      <td>7.820235</td>\n",
       "      <td>6.195360</td>\n",
       "      <td>8.281126</td>\n",
       "      <td>5.745920</td>\n",
       "      <td>6.825362</td>\n",
       "    </tr>\n",
       "  </tbody>\n",
       "</table>\n",
       "<p>5 rows × 200 columns</p>\n",
       "</div>"
      ],
      "text/plain": [
       "          YAL012W   YAL035W   YAL044C  YAR002C-A   YAR015W   YBL026W  \\\n",
       "WT       8.743338  5.370779  6.812850   6.472343  7.579128  5.405962   \n",
       "YAL017W  8.670526  5.374893  6.961889   6.299363  7.622924  5.359329   \n",
       "YAR018C  8.556956  5.578207  7.254334   6.437292  7.712280  5.295463   \n",
       "YBL016W  9.116122  3.596748  8.003110   6.923137  7.560972  5.909985   \n",
       "YBL088C  9.056300  3.682467  7.229609   6.447050  7.733115  5.052274   \n",
       "\n",
       "         YBR085C-A  YBR089C-A   YBR106W   YBR111C  ...   YPL160W   YPL218W  \\\n",
       "WT        4.211866   5.762258  5.383726  5.007851  ...  7.131108  7.735359   \n",
       "YAL017W   4.204216   5.624497  5.419867  5.345102  ...  7.183191  7.744732   \n",
       "YAR018C   5.044604   5.674102  4.968507  4.755656  ...  6.890116  7.722752   \n",
       "YBL016W   4.302803   6.662682  4.357893  5.981816  ...  7.182479  7.399766   \n",
       "YBL088C   4.628696   5.760721  5.157177  5.509176  ...  6.669079  7.550100   \n",
       "\n",
       "          YPL225W   YPL231W   YPR033C   YPR035W   YPR036W   YPR074C   YPR103W  \\\n",
       "WT       5.025493  7.950419  6.687075  7.312082  6.652176  8.496313  5.812644   \n",
       "YAL017W  4.656182  7.843990  6.522794  7.642587  6.472836  8.456138  5.874653   \n",
       "YAR018C  4.958785  7.755970  6.595939  7.724236  6.529917  8.388259  5.747122   \n",
       "YBL016W  2.869029  7.000672  6.975286  8.027934  6.497148  7.360402  6.134415   \n",
       "YBL088C  4.338337  6.687051  6.683923  7.820235  6.195360  8.281126  5.745920   \n",
       "\n",
       "          YPR165W  \n",
       "WT       6.990033  \n",
       "YAL017W  6.827223  \n",
       "YAR018C  7.033319  \n",
       "YBL016W  6.653605  \n",
       "YBL088C  6.825362  \n",
       "\n",
       "[5 rows x 200 columns]"
      ]
     },
     "execution_count": 8,
     "metadata": {},
     "output_type": "execute_result"
    }
   ],
   "source": [
    "#create, fit selector and get the best (k) features\n",
    "selector = SelectKBest(f_regression, k=200)  #200 chosen after for loop\n",
    "selector.fit(x, y)\n",
    "mask = selector.get_support()\n",
    "new_features = x.columns[mask]\n",
    "new_x = pd.DataFrame(x, columns=new_features)\n",
    "new_x.head()"
   ]
  },
  {
   "cell_type": "code",
   "execution_count": 9,
   "metadata": {},
   "outputs": [],
   "source": [
    "#file_name_selection1 = '../data/selected features/200/data_selection_738_200.csv'\n",
    "#new_x.to_csv(file_name_selection1, index=True)"
   ]
  },
  {
   "cell_type": "markdown",
   "metadata": {},
   "source": [
    "### Apply RFE to the best n features to select according to weight"
   ]
  },
  {
   "cell_type": "code",
   "execution_count": 10,
   "metadata": {},
   "outputs": [],
   "source": [
    "from sklearn.feature_selection import RFE"
   ]
  },
  {
   "cell_type": "code",
   "execution_count": 11,
   "metadata": {},
   "outputs": [
    {
     "data": {
      "text/plain": [
       "LinearRegression(copy_X=True, fit_intercept=True, n_jobs=None,\n",
       "         normalize=False)"
      ]
     },
     "execution_count": 11,
     "metadata": {},
     "output_type": "execute_result"
    }
   ],
   "source": [
    "regr = linear_model.LinearRegression()\n",
    "regr.fit(new_x, y)"
   ]
  },
  {
   "cell_type": "code",
   "execution_count": 12,
   "metadata": {},
   "outputs": [
    {
     "data": {
      "text/plain": [
       "Text(0.5, 1.0, 'Accuracy vs. Features')"
      ]
     },
     "execution_count": 12,
     "metadata": {},
     "output_type": "execute_result"
    },
    {
     "data": {
      "image/png": "[encoded data removed]",
      "text/plain": [
       "<Figure size 1152x432 with 3 Axes>"
      ]
     },
     "metadata": {
      "needs_background": "light"
     },
     "output_type": "display_data"
    }
   ],
   "source": [
    "variance_scores_v = []\n",
    "variance_scores_p = []\n",
    "n_features = []\n",
    "accuracies = []\n",
    "\n",
    "for i in range (1,90): \n",
    "    \n",
    "    selector_2 = RFE(estimator=regr, n_features_to_select= i, step=1)\n",
    "    selector_2.fit(new_x, y)\n",
    "    mask_2 = selector_2.get_support()\n",
    "    new_features_2 = new_x.columns[mask_2]\n",
    "    new_x_2 = pd.DataFrame(new_x, columns=new_features_2)\n",
    "   \n",
    "                      \n",
    "    x_train, x_val, y_train, y_val = train_test_split(new_x_2, y, test_size=0.1)\n",
    "    \n",
    "    regr_reduced = linear_model.LinearRegression()\n",
    "    regr_reduced.fit(x_train, y_train)\n",
    "    \n",
    "    \n",
    "    y_predicted = regr_reduced.predict(x_train)\n",
    "    train_score = r2_score(y_train, y_predicted)\n",
    "    \n",
    "    y_pred_val = regr_reduced.predict(x_val)\n",
    "    val_score = r2_score(y_val, y_pred_val) \n",
    "    \n",
    "    errors = abs(y_pred_val - y_val)\n",
    "    mape = 100 * (errors / y_val)\n",
    "    accuracy = 100 - np.mean(mape)\n",
    "    \n",
    "    \n",
    "    if i % 1 == 0:\n",
    "        n_features.append(i)\n",
    "        variance_scores_v.append(val_score)\n",
    "        variance_scores_p.append(train_score)\n",
    "        accuracies.append(accuracy)\n",
    "        \n",
    "    \n",
    "plt.figure(1, figsize=(16, 6))\n",
    "\n",
    "plt.subplot(1,3,3)\n",
    "plt.plot(n_features, variance_scores_v, color='black') \n",
    "plt.title('Variance_Val vs. Features')\n",
    "plt.subplot(1,3,2)\n",
    "plt.plot(n_features, variance_scores_p, color='black')  \n",
    "plt.title('Variance_Train vs. Features')\n",
    "plt.subplot(1,3,1)\n",
    "plt.plot(n_features, accuracies, color= 'black')\n",
    "plt.title('Accuracy vs. Features')"
   ]
  },
  {
   "cell_type": "code",
   "execution_count": 13,
   "metadata": {},
   "outputs": [
    {
     "data": {
      "text/html": [
       "<div>\n",
       "<style scoped>\n",
       "    .dataframe tbody tr th:only-of-type {\n",
       "        vertical-align: middle;\n",
       "    }\n",
       "\n",
       "    .dataframe tbody tr th {\n",
       "        vertical-align: top;\n",
       "    }\n",
       "\n",
       "    .dataframe thead th {\n",
       "        text-align: right;\n",
       "    }\n",
       "</style>\n",
       "<table border=\"1\" class=\"dataframe\">\n",
       "  <thead>\n",
       "    <tr style=\"text-align: right;\">\n",
       "      <th></th>\n",
       "      <th>YCL009C</th>\n",
       "      <th>YCL037C</th>\n",
       "      <th>YDL084W</th>\n",
       "      <th>YDL092W</th>\n",
       "      <th>YDL131W</th>\n",
       "      <th>YDL195W</th>\n",
       "      <th>YDR037W</th>\n",
       "      <th>YDR091C</th>\n",
       "      <th>YDR127W</th>\n",
       "      <th>YDR158W</th>\n",
       "      <th>...</th>\n",
       "      <th>YLR355C</th>\n",
       "      <th>YLR380W</th>\n",
       "      <th>YMR186W</th>\n",
       "      <th>YMR300C</th>\n",
       "      <th>YMR318C</th>\n",
       "      <th>YNL112W</th>\n",
       "      <th>YNL243W</th>\n",
       "      <th>YNL312W</th>\n",
       "      <th>YOL012C</th>\n",
       "      <th>YPL028W</th>\n",
       "    </tr>\n",
       "  </thead>\n",
       "  <tbody>\n",
       "    <tr>\n",
       "      <th>WT</th>\n",
       "      <td>7.434493</td>\n",
       "      <td>5.205248</td>\n",
       "      <td>7.455234</td>\n",
       "      <td>4.293091</td>\n",
       "      <td>8.233438</td>\n",
       "      <td>6.048142</td>\n",
       "      <td>7.283722</td>\n",
       "      <td>6.197984</td>\n",
       "      <td>6.268259</td>\n",
       "      <td>8.103974</td>\n",
       "      <td>...</td>\n",
       "      <td>9.450132</td>\n",
       "      <td>4.796860</td>\n",
       "      <td>6.997239</td>\n",
       "      <td>6.929900</td>\n",
       "      <td>6.598453</td>\n",
       "      <td>5.501056</td>\n",
       "      <td>4.033866</td>\n",
       "      <td>5.237147</td>\n",
       "      <td>6.655110</td>\n",
       "      <td>7.657049</td>\n",
       "    </tr>\n",
       "    <tr>\n",
       "      <th>YAL017W</th>\n",
       "      <td>7.348111</td>\n",
       "      <td>5.660626</td>\n",
       "      <td>7.679708</td>\n",
       "      <td>4.270186</td>\n",
       "      <td>8.158083</td>\n",
       "      <td>5.856697</td>\n",
       "      <td>7.382876</td>\n",
       "      <td>6.321172</td>\n",
       "      <td>5.952558</td>\n",
       "      <td>8.026716</td>\n",
       "      <td>...</td>\n",
       "      <td>9.294170</td>\n",
       "      <td>4.243918</td>\n",
       "      <td>7.166543</td>\n",
       "      <td>7.120131</td>\n",
       "      <td>6.577038</td>\n",
       "      <td>5.667768</td>\n",
       "      <td>3.909353</td>\n",
       "      <td>5.114825</td>\n",
       "      <td>6.718885</td>\n",
       "      <td>7.628511</td>\n",
       "    </tr>\n",
       "    <tr>\n",
       "      <th>YAR018C</th>\n",
       "      <td>7.492098</td>\n",
       "      <td>4.948928</td>\n",
       "      <td>7.494301</td>\n",
       "      <td>4.255021</td>\n",
       "      <td>8.174248</td>\n",
       "      <td>6.021812</td>\n",
       "      <td>7.294145</td>\n",
       "      <td>6.149899</td>\n",
       "      <td>6.016387</td>\n",
       "      <td>7.954849</td>\n",
       "      <td>...</td>\n",
       "      <td>9.140197</td>\n",
       "      <td>5.180847</td>\n",
       "      <td>7.156408</td>\n",
       "      <td>7.150544</td>\n",
       "      <td>6.631992</td>\n",
       "      <td>5.654734</td>\n",
       "      <td>4.087856</td>\n",
       "      <td>5.333319</td>\n",
       "      <td>6.426547</td>\n",
       "      <td>7.841001</td>\n",
       "    </tr>\n",
       "    <tr>\n",
       "      <th>YBL016W</th>\n",
       "      <td>7.658993</td>\n",
       "      <td>6.032080</td>\n",
       "      <td>7.862184</td>\n",
       "      <td>5.146593</td>\n",
       "      <td>8.231076</td>\n",
       "      <td>4.863843</td>\n",
       "      <td>8.313176</td>\n",
       "      <td>6.137381</td>\n",
       "      <td>6.313471</td>\n",
       "      <td>7.880254</td>\n",
       "      <td>...</td>\n",
       "      <td>9.530802</td>\n",
       "      <td>4.706193</td>\n",
       "      <td>7.433619</td>\n",
       "      <td>7.688515</td>\n",
       "      <td>6.886398</td>\n",
       "      <td>4.976620</td>\n",
       "      <td>3.516774</td>\n",
       "      <td>5.100964</td>\n",
       "      <td>6.889802</td>\n",
       "      <td>7.381356</td>\n",
       "    </tr>\n",
       "    <tr>\n",
       "      <th>YBL088C</th>\n",
       "      <td>7.331100</td>\n",
       "      <td>5.764368</td>\n",
       "      <td>7.821718</td>\n",
       "      <td>4.319284</td>\n",
       "      <td>7.923199</td>\n",
       "      <td>4.512936</td>\n",
       "      <td>7.381501</td>\n",
       "      <td>6.740339</td>\n",
       "      <td>6.398827</td>\n",
       "      <td>8.076028</td>\n",
       "      <td>...</td>\n",
       "      <td>9.437055</td>\n",
       "      <td>4.581793</td>\n",
       "      <td>7.391868</td>\n",
       "      <td>7.209853</td>\n",
       "      <td>6.232029</td>\n",
       "      <td>5.497865</td>\n",
       "      <td>2.831103</td>\n",
       "      <td>5.017645</td>\n",
       "      <td>6.784534</td>\n",
       "      <td>7.432871</td>\n",
       "    </tr>\n",
       "  </tbody>\n",
       "</table>\n",
       "<p>5 rows × 40 columns</p>\n",
       "</div>"
      ],
      "text/plain": [
       "          YCL009C   YCL037C   YDL084W   YDL092W   YDL131W   YDL195W   YDR037W  \\\n",
       "WT       7.434493  5.205248  7.455234  4.293091  8.233438  6.048142  7.283722   \n",
       "YAL017W  7.348111  5.660626  7.679708  4.270186  8.158083  5.856697  7.382876   \n",
       "YAR018C  7.492098  4.948928  7.494301  4.255021  8.174248  6.021812  7.294145   \n",
       "YBL016W  7.658993  6.032080  7.862184  5.146593  8.231076  4.863843  8.313176   \n",
       "YBL088C  7.331100  5.764368  7.821718  4.319284  7.923199  4.512936  7.381501   \n",
       "\n",
       "          YDR091C   YDR127W   YDR158W  ...   YLR355C   YLR380W   YMR186W  \\\n",
       "WT       6.197984  6.268259  8.103974  ...  9.450132  4.796860  6.997239   \n",
       "YAL017W  6.321172  5.952558  8.026716  ...  9.294170  4.243918  7.166543   \n",
       "YAR018C  6.149899  6.016387  7.954849  ...  9.140197  5.180847  7.156408   \n",
       "YBL016W  6.137381  6.313471  7.880254  ...  9.530802  4.706193  7.433619   \n",
       "YBL088C  6.740339  6.398827  8.076028  ...  9.437055  4.581793  7.391868   \n",
       "\n",
       "          YMR300C   YMR318C   YNL112W   YNL243W   YNL312W   YOL012C   YPL028W  \n",
       "WT       6.929900  6.598453  5.501056  4.033866  5.237147  6.655110  7.657049  \n",
       "YAL017W  7.120131  6.577038  5.667768  3.909353  5.114825  6.718885  7.628511  \n",
       "YAR018C  7.150544  6.631992  5.654734  4.087856  5.333319  6.426547  7.841001  \n",
       "YBL016W  7.688515  6.886398  4.976620  3.516774  5.100964  6.889802  7.381356  \n",
       "YBL088C  7.209853  6.232029  5.497865  2.831103  5.017645  6.784534  7.432871  \n",
       "\n",
       "[5 rows x 40 columns]"
      ]
     },
     "execution_count": 13,
     "metadata": {},
     "output_type": "execute_result"
    }
   ],
   "source": [
    "#Reduce to 40\n",
    "\n",
    "selector_2 = RFE(estimator=regr, n_features_to_select=40, step=1)\n",
    "selector_2.fit(new_x, y)\n",
    "mask_2 = selector_2.get_support()\n",
    "new_features_2 = new_x.columns[mask_2]\n",
    "new_x_2 = pd.DataFrame(new_x, columns=new_features_2)\n",
    "new_x_2.head()"
   ]
  },
  {
   "cell_type": "code",
   "execution_count": 14,
   "metadata": {},
   "outputs": [
    {
     "data": {
      "text/plain": [
       "(96, 40)"
      ]
     },
     "execution_count": 14,
     "metadata": {},
     "output_type": "execute_result"
    }
   ],
   "source": [
    "new_x_2.shape"
   ]
  },
  {
   "cell_type": "code",
   "execution_count": 15,
   "metadata": {},
   "outputs": [],
   "source": [
    "#file_name_selection2 = '../data/selected features/40/data_selection_738_40.csv'\n",
    "#new_x_2.to_csv(file_name_selection2, index=True)"
   ]
  },
  {
   "cell_type": "markdown",
   "metadata": {},
   "source": [
    "### correlation between feature and metabolite"
   ]
  },
  {
   "cell_type": "code",
   "execution_count": 16,
   "metadata": {},
   "outputs": [
    {
     "data": {
      "text/plain": [
       "<matplotlib.collections.PathCollection at 0x121c9cda0>"
      ]
     },
     "execution_count": 16,
     "metadata": {},
     "output_type": "execute_result"
    },
    {
     "data": {
      "image/png": "[encoded data removed]",
      "text/plain": [
       "<Figure size 432x288 with 1 Axes>"
      ]
     },
     "metadata": {
      "needs_background": "light"
     },
     "output_type": "display_data"
    }
   ],
   "source": [
    "feature = 4\n",
    "plt.scatter(x= new_x_2.iloc[:,feature], y= y)"
   ]
  },
  {
   "cell_type": "markdown",
   "metadata": {},
   "source": [
    "### Train and make predictions with the new Dataset"
   ]
  },
  {
   "cell_type": "code",
   "execution_count": 17,
   "metadata": {},
   "outputs": [],
   "source": [
    "from sklearn.model_selection import train_test_split\n",
    "x_train, x_val, y_train, y_val = train_test_split(new_x_2, y, test_size=0.1)"
   ]
  },
  {
   "cell_type": "code",
   "execution_count": 18,
   "metadata": {},
   "outputs": [],
   "source": [
    "x_train, x_test, y_train, y_test = train_test_split(x_train, y_train, test_size=0.11)"
   ]
  },
  {
   "cell_type": "code",
   "execution_count": 19,
   "metadata": {},
   "outputs": [
    {
     "data": {
      "text/plain": [
       "LinearRegression(copy_X=True, fit_intercept=True, n_jobs=None,\n",
       "         normalize=False)"
      ]
     },
     "execution_count": 19,
     "metadata": {},
     "output_type": "execute_result"
    }
   ],
   "source": [
    "# train\n",
    "regr_738 = linear_model.LinearRegression()\n",
    "regr_738.fit(x_train, y_train)\n"
   ]
  },
  {
   "cell_type": "code",
   "execution_count": 20,
   "metadata": {},
   "outputs": [
    {
     "name": "stdout",
     "output_type": "stream",
     "text": [
      "Variance score: -1.82\n"
     ]
    }
   ],
   "source": [
    "y_pred = regr_738.predict(x_train)\n",
    "y_pred_val = regr_738.predict(x_val)\n",
    "\n",
    "error_val = mean_squared_error(y_test, y_pred_val)\n",
    "error_train = mean_squared_error(y_train, y_pred)\n",
    "\n",
    "#print('Coefficients: \\n', regr.coef_)  #show the weights\n",
    "#show mean squared error\n",
    "#print(\"Mean squared error: %.2f\"\n",
    "      #% mean_squared_error(y_val, y_pred_val))\n",
    "# Explained variance score: 1 is perfect prediction\n",
    "print('Variance score: %.2f' % r2_score(y_test, y_pred_val))\n",
    "\n",
    "#print((1-error_val)*100)\n",
    "#print((1-error_train)*100)"
   ]
  },
  {
   "cell_type": "code",
   "execution_count": 21,
   "metadata": {},
   "outputs": [
    {
     "name": "stdout",
     "output_type": "stream",
     "text": [
      "D-Glucose 6-phosphate;D-Fructose 6-phosphate;beta-D-glucose 6-phosphate\n"
     ]
    },
    {
     "data": {
      "image/png": "[encoded data removed]",
      "text/plain": [
       "<Figure size 864x864 with 2 Axes>"
      ]
     },
     "metadata": {
      "needs_background": "light"
     },
     "output_type": "display_data"
    }
   ],
   "source": [
    "fig = plt.figure(figsize=(12,12))\n",
    "\n",
    "plt.title(print(mutants.columns.get_values()[position]))\n",
    "\n",
    "\n",
    "sub1 = plt.subplot(2,2,1)\n",
    "sub1.set_title('Train Data')\n",
    "plt.scatter(y= y_train, x=y_pred);\n",
    "\n",
    "\n",
    "sub2=plt.subplot(2,2,2)\n",
    "sub2.set_title('Validation Data')\n",
    "plt.scatter(y= y_val, x=y_pred_val);"
   ]
  },
  {
   "cell_type": "code",
   "execution_count": 22,
   "metadata": {},
   "outputs": [
    {
     "data": {
      "text/plain": [
       "(96, 40)"
      ]
     },
     "execution_count": 22,
     "metadata": {},
     "output_type": "execute_result"
    }
   ],
   "source": [
    "new_x_2.shape"
   ]
  },
  {
   "cell_type": "code",
   "execution_count": 23,
   "metadata": {},
   "outputs": [
    {
     "data": {
      "text/plain": [
       "(96,)"
      ]
     },
     "execution_count": 23,
     "metadata": {},
     "output_type": "execute_result"
    }
   ],
   "source": [
    "y.shape"
   ]
  },
  {
   "cell_type": "markdown",
   "metadata": {},
   "source": [
    "### Cross Validation\n",
    "https://scikit-learn.org/stable/modules/cross_validation.html#cross-validation"
   ]
  },
  {
   "cell_type": "code",
   "execution_count": 24,
   "metadata": {},
   "outputs": [
    {
     "data": {
      "image/png": "[encoded data removed]",
      "text/plain": [
       "<Figure size 432x288 with 1 Axes>"
      ]
     },
     "metadata": {
      "needs_background": "light"
     },
     "output_type": "display_data"
    }
   ],
   "source": [
    "from sklearn.model_selection import cross_val_predict\n",
    "\n",
    "# cross_val_predict returns an array of the same size as `y` where each entry\n",
    "# is a prediction obtained by cross validation:\n",
    "predicted = cross_val_predict(regr_738, new_x_2, y, cv=50)\n",
    "\n",
    "fig, ax = plt.subplots()\n",
    "ax.scatter(y, predicted, edgecolors=(0, 0, 0))\n",
    "ax.plot([y.min(), y.max()], [y.min(), y.max()], 'k--', lw=4)\n",
    "ax.set_xlabel('Measured')\n",
    "ax.set_ylabel('Predicted')\n",
    "plt.show()\n"
   ]
  },
  {
   "cell_type": "code",
   "execution_count": 25,
   "metadata": {},
   "outputs": [],
   "source": [
    "#model_filename = '../models/738.sav'\n",
    "#pickle.dump(regr_738, open(model_filename, 'wb'))"
   ]
  },
  {
   "cell_type": "markdown",
   "metadata": {},
   "source": [
    "### Accuracy"
   ]
  },
  {
   "cell_type": "code",
   "execution_count": 26,
   "metadata": {},
   "outputs": [
    {
     "name": "stdout",
     "output_type": "stream",
     "text": [
      "Accuracy: 94.2 %.\n"
     ]
    }
   ],
   "source": [
    "errors = abs(y_pred_val - y_val)\n",
    "mape = 100 * (errors / y_val)\n",
    "accuracy = 100 - np.mean(mape)\n",
    "print('Accuracy:', round(accuracy, 2), '%.')"
   ]
  },
  {
   "cell_type": "code",
   "execution_count": 27,
   "metadata": {},
   "outputs": [
    {
     "data": {
      "text/plain": [
       "<BarContainer object of 40 artists>"
      ]
     },
     "execution_count": 27,
     "metadata": {},
     "output_type": "execute_result"
    },
    {
     "data": {
      "image/png": "[encoded data removed]",
      "text/plain": [
       "<Figure size 1728x720 with 1 Axes>"
      ]
     },
     "metadata": {
      "needs_background": "light"
     },
     "output_type": "display_data"
    }
   ],
   "source": [
    "plt.figure(figsize=(24,10))\n",
    "plt.xticks(fontsize = 15, rotation=60)\n",
    "plt.bar(new_x_2.columns.get_values(), regr_738.coef_, )"
   ]
  },
  {
   "cell_type": "code",
   "execution_count": 28,
   "metadata": {},
   "outputs": [
    {
     "data": {
      "text/plain": [
       "array(['YCL009C', 'YCL037C', 'YDL084W', 'YDL092W', 'YDL131W', 'YDL195W',\n",
       "       'YDR037W', 'YDR091C', 'YDR127W', 'YDR158W', 'YDR174W', 'YDR382W',\n",
       "       'YDR516C', 'YEL024W', 'YER031C', 'YFL039C', 'YGL031C', 'YGL253W',\n",
       "       'YGR185C', 'YHR029C', 'YHR128W', 'YIL124W', 'YJL008C', 'YJL080C',\n",
       "       'YJR025C', 'YJR065C', 'YKL182W', 'YKR071C', 'YLR262C-A', 'YLR303W',\n",
       "       'YLR355C', 'YLR380W', 'YMR186W', 'YMR300C', 'YMR318C', 'YNL112W',\n",
       "       'YNL243W', 'YNL312W', 'YOL012C', 'YPL028W'], dtype=object)"
      ]
     },
     "execution_count": 28,
     "metadata": {},
     "output_type": "execute_result"
    }
   ],
   "source": [
    "new_x_2.columns.get_values()"
   ]
  },
  {
   "cell_type": "code",
   "execution_count": 29,
   "metadata": {},
   "outputs": [],
   "source": [
    "#predictors with biological importance for D-Glucose 6-phosphate\n",
    "\n",
    "#YCL040W Glucokinase\n",
    "#YJL153C  Inositol-3-phosphate synthase\n",
    "#YBR196C Glycolytic enzyme phosphoglucose isomerase\n",
    "#YMR105C  Phosphoglucomutase; catalyzes the conversion from glucose-1-phosphate to glucose-6-phosphate\n",
    "#YNL241C Glucose-6-phosphate dehydrogenase (G6PD)"
   ]
  },
  {
   "cell_type": "code",
   "execution_count": 30,
   "metadata": {},
   "outputs": [],
   "source": [
    "#Create dataframe with the predictors from above"
   ]
  },
  {
   "cell_type": "code",
   "execution_count": 31,
   "metadata": {},
   "outputs": [],
   "source": [
    "predictors = mutants[['YCL040W','YJL153C','YBR196C','YMR105C','YNL241C']]"
   ]
  },
  {
   "cell_type": "code",
   "execution_count": 32,
   "metadata": {},
   "outputs": [
    {
     "data": {
      "text/html": [
       "<div>\n",
       "<style scoped>\n",
       "    .dataframe tbody tr th:only-of-type {\n",
       "        vertical-align: middle;\n",
       "    }\n",
       "\n",
       "    .dataframe tbody tr th {\n",
       "        vertical-align: top;\n",
       "    }\n",
       "\n",
       "    .dataframe thead th {\n",
       "        text-align: right;\n",
       "    }\n",
       "</style>\n",
       "<table border=\"1\" class=\"dataframe\">\n",
       "  <thead>\n",
       "    <tr style=\"text-align: right;\">\n",
       "      <th></th>\n",
       "      <th>YCL040W</th>\n",
       "      <th>YJL153C</th>\n",
       "      <th>YBR196C</th>\n",
       "      <th>YMR105C</th>\n",
       "      <th>YNL241C</th>\n",
       "    </tr>\n",
       "  </thead>\n",
       "  <tbody>\n",
       "    <tr>\n",
       "      <th>WT</th>\n",
       "      <td>8.199483</td>\n",
       "      <td>8.745303</td>\n",
       "      <td>8.602317</td>\n",
       "      <td>6.386305</td>\n",
       "      <td>6.678008</td>\n",
       "    </tr>\n",
       "    <tr>\n",
       "      <th>YAL017W</th>\n",
       "      <td>8.061042</td>\n",
       "      <td>8.148348</td>\n",
       "      <td>8.653857</td>\n",
       "      <td>5.994002</td>\n",
       "      <td>6.240499</td>\n",
       "    </tr>\n",
       "    <tr>\n",
       "      <th>YAR018C</th>\n",
       "      <td>7.965163</td>\n",
       "      <td>7.583946</td>\n",
       "      <td>8.458909</td>\n",
       "      <td>6.078099</td>\n",
       "      <td>6.590718</td>\n",
       "    </tr>\n",
       "    <tr>\n",
       "      <th>YBL016W</th>\n",
       "      <td>7.864156</td>\n",
       "      <td>7.130358</td>\n",
       "      <td>8.541610</td>\n",
       "      <td>5.153374</td>\n",
       "      <td>6.710238</td>\n",
       "    </tr>\n",
       "    <tr>\n",
       "      <th>YBL088C</th>\n",
       "      <td>7.685407</td>\n",
       "      <td>6.882276</td>\n",
       "      <td>8.817238</td>\n",
       "      <td>5.439663</td>\n",
       "      <td>6.787224</td>\n",
       "    </tr>\n",
       "  </tbody>\n",
       "</table>\n",
       "</div>"
      ],
      "text/plain": [
       "          YCL040W   YJL153C   YBR196C   YMR105C   YNL241C\n",
       "WT       8.199483  8.745303  8.602317  6.386305  6.678008\n",
       "YAL017W  8.061042  8.148348  8.653857  5.994002  6.240499\n",
       "YAR018C  7.965163  7.583946  8.458909  6.078099  6.590718\n",
       "YBL016W  7.864156  7.130358  8.541610  5.153374  6.710238\n",
       "YBL088C  7.685407  6.882276  8.817238  5.439663  6.787224"
      ]
     },
     "execution_count": 32,
     "metadata": {},
     "output_type": "execute_result"
    }
   ],
   "source": [
    "predictors.head()"
   ]
  },
  {
   "cell_type": "code",
   "execution_count": 33,
   "metadata": {},
   "outputs": [],
   "source": [
    "all_predictors = pd.concat([predictors, new_x_2], axis=1, sort=False)"
   ]
  },
  {
   "cell_type": "code",
   "execution_count": 34,
   "metadata": {},
   "outputs": [
    {
     "data": {
      "text/html": [
       "<div>\n",
       "<style scoped>\n",
       "    .dataframe tbody tr th:only-of-type {\n",
       "        vertical-align: middle;\n",
       "    }\n",
       "\n",
       "    .dataframe tbody tr th {\n",
       "        vertical-align: top;\n",
       "    }\n",
       "\n",
       "    .dataframe thead th {\n",
       "        text-align: right;\n",
       "    }\n",
       "</style>\n",
       "<table border=\"1\" class=\"dataframe\">\n",
       "  <thead>\n",
       "    <tr style=\"text-align: right;\">\n",
       "      <th></th>\n",
       "      <th>YCL040W</th>\n",
       "      <th>YJL153C</th>\n",
       "      <th>YBR196C</th>\n",
       "      <th>YMR105C</th>\n",
       "      <th>YNL241C</th>\n",
       "      <th>YCL009C</th>\n",
       "      <th>YCL037C</th>\n",
       "      <th>YDL084W</th>\n",
       "      <th>YDL092W</th>\n",
       "      <th>YDL131W</th>\n",
       "      <th>...</th>\n",
       "      <th>YLR355C</th>\n",
       "      <th>YLR380W</th>\n",
       "      <th>YMR186W</th>\n",
       "      <th>YMR300C</th>\n",
       "      <th>YMR318C</th>\n",
       "      <th>YNL112W</th>\n",
       "      <th>YNL243W</th>\n",
       "      <th>YNL312W</th>\n",
       "      <th>YOL012C</th>\n",
       "      <th>YPL028W</th>\n",
       "    </tr>\n",
       "  </thead>\n",
       "  <tbody>\n",
       "    <tr>\n",
       "      <th>WT</th>\n",
       "      <td>8.199483</td>\n",
       "      <td>8.745303</td>\n",
       "      <td>8.602317</td>\n",
       "      <td>6.386305</td>\n",
       "      <td>6.678008</td>\n",
       "      <td>7.434493</td>\n",
       "      <td>5.205248</td>\n",
       "      <td>7.455234</td>\n",
       "      <td>4.293091</td>\n",
       "      <td>8.233438</td>\n",
       "      <td>...</td>\n",
       "      <td>9.450132</td>\n",
       "      <td>4.796860</td>\n",
       "      <td>6.997239</td>\n",
       "      <td>6.929900</td>\n",
       "      <td>6.598453</td>\n",
       "      <td>5.501056</td>\n",
       "      <td>4.033866</td>\n",
       "      <td>5.237147</td>\n",
       "      <td>6.655110</td>\n",
       "      <td>7.657049</td>\n",
       "    </tr>\n",
       "    <tr>\n",
       "      <th>YAL017W</th>\n",
       "      <td>8.061042</td>\n",
       "      <td>8.148348</td>\n",
       "      <td>8.653857</td>\n",
       "      <td>5.994002</td>\n",
       "      <td>6.240499</td>\n",
       "      <td>7.348111</td>\n",
       "      <td>5.660626</td>\n",
       "      <td>7.679708</td>\n",
       "      <td>4.270186</td>\n",
       "      <td>8.158083</td>\n",
       "      <td>...</td>\n",
       "      <td>9.294170</td>\n",
       "      <td>4.243918</td>\n",
       "      <td>7.166543</td>\n",
       "      <td>7.120131</td>\n",
       "      <td>6.577038</td>\n",
       "      <td>5.667768</td>\n",
       "      <td>3.909353</td>\n",
       "      <td>5.114825</td>\n",
       "      <td>6.718885</td>\n",
       "      <td>7.628511</td>\n",
       "    </tr>\n",
       "    <tr>\n",
       "      <th>YAR018C</th>\n",
       "      <td>7.965163</td>\n",
       "      <td>7.583946</td>\n",
       "      <td>8.458909</td>\n",
       "      <td>6.078099</td>\n",
       "      <td>6.590718</td>\n",
       "      <td>7.492098</td>\n",
       "      <td>4.948928</td>\n",
       "      <td>7.494301</td>\n",
       "      <td>4.255021</td>\n",
       "      <td>8.174248</td>\n",
       "      <td>...</td>\n",
       "      <td>9.140197</td>\n",
       "      <td>5.180847</td>\n",
       "      <td>7.156408</td>\n",
       "      <td>7.150544</td>\n",
       "      <td>6.631992</td>\n",
       "      <td>5.654734</td>\n",
       "      <td>4.087856</td>\n",
       "      <td>5.333319</td>\n",
       "      <td>6.426547</td>\n",
       "      <td>7.841001</td>\n",
       "    </tr>\n",
       "    <tr>\n",
       "      <th>YBL016W</th>\n",
       "      <td>7.864156</td>\n",
       "      <td>7.130358</td>\n",
       "      <td>8.541610</td>\n",
       "      <td>5.153374</td>\n",
       "      <td>6.710238</td>\n",
       "      <td>7.658993</td>\n",
       "      <td>6.032080</td>\n",
       "      <td>7.862184</td>\n",
       "      <td>5.146593</td>\n",
       "      <td>8.231076</td>\n",
       "      <td>...</td>\n",
       "      <td>9.530802</td>\n",
       "      <td>4.706193</td>\n",
       "      <td>7.433619</td>\n",
       "      <td>7.688515</td>\n",
       "      <td>6.886398</td>\n",
       "      <td>4.976620</td>\n",
       "      <td>3.516774</td>\n",
       "      <td>5.100964</td>\n",
       "      <td>6.889802</td>\n",
       "      <td>7.381356</td>\n",
       "    </tr>\n",
       "    <tr>\n",
       "      <th>YBL088C</th>\n",
       "      <td>7.685407</td>\n",
       "      <td>6.882276</td>\n",
       "      <td>8.817238</td>\n",
       "      <td>5.439663</td>\n",
       "      <td>6.787224</td>\n",
       "      <td>7.331100</td>\n",
       "      <td>5.764368</td>\n",
       "      <td>7.821718</td>\n",
       "      <td>4.319284</td>\n",
       "      <td>7.923199</td>\n",
       "      <td>...</td>\n",
       "      <td>9.437055</td>\n",
       "      <td>4.581793</td>\n",
       "      <td>7.391868</td>\n",
       "      <td>7.209853</td>\n",
       "      <td>6.232029</td>\n",
       "      <td>5.497865</td>\n",
       "      <td>2.831103</td>\n",
       "      <td>5.017645</td>\n",
       "      <td>6.784534</td>\n",
       "      <td>7.432871</td>\n",
       "    </tr>\n",
       "  </tbody>\n",
       "</table>\n",
       "<p>5 rows × 45 columns</p>\n",
       "</div>"
      ],
      "text/plain": [
       "          YCL040W   YJL153C   YBR196C   YMR105C   YNL241C   YCL009C   YCL037C  \\\n",
       "WT       8.199483  8.745303  8.602317  6.386305  6.678008  7.434493  5.205248   \n",
       "YAL017W  8.061042  8.148348  8.653857  5.994002  6.240499  7.348111  5.660626   \n",
       "YAR018C  7.965163  7.583946  8.458909  6.078099  6.590718  7.492098  4.948928   \n",
       "YBL016W  7.864156  7.130358  8.541610  5.153374  6.710238  7.658993  6.032080   \n",
       "YBL088C  7.685407  6.882276  8.817238  5.439663  6.787224  7.331100  5.764368   \n",
       "\n",
       "          YDL084W   YDL092W   YDL131W  ...   YLR355C   YLR380W   YMR186W  \\\n",
       "WT       7.455234  4.293091  8.233438  ...  9.450132  4.796860  6.997239   \n",
       "YAL017W  7.679708  4.270186  8.158083  ...  9.294170  4.243918  7.166543   \n",
       "YAR018C  7.494301  4.255021  8.174248  ...  9.140197  5.180847  7.156408   \n",
       "YBL016W  7.862184  5.146593  8.231076  ...  9.530802  4.706193  7.433619   \n",
       "YBL088C  7.821718  4.319284  7.923199  ...  9.437055  4.581793  7.391868   \n",
       "\n",
       "          YMR300C   YMR318C   YNL112W   YNL243W   YNL312W   YOL012C   YPL028W  \n",
       "WT       6.929900  6.598453  5.501056  4.033866  5.237147  6.655110  7.657049  \n",
       "YAL017W  7.120131  6.577038  5.667768  3.909353  5.114825  6.718885  7.628511  \n",
       "YAR018C  7.150544  6.631992  5.654734  4.087856  5.333319  6.426547  7.841001  \n",
       "YBL016W  7.688515  6.886398  4.976620  3.516774  5.100964  6.889802  7.381356  \n",
       "YBL088C  7.209853  6.232029  5.497865  2.831103  5.017645  6.784534  7.432871  \n",
       "\n",
       "[5 rows x 45 columns]"
      ]
     },
     "execution_count": 34,
     "metadata": {},
     "output_type": "execute_result"
    }
   ],
   "source": [
    "all_predictors.head(5)"
   ]
  },
  {
   "cell_type": "markdown",
   "metadata": {},
   "source": [
    "### Train and make predictions with all_predictors"
   ]
  },
  {
   "cell_type": "code",
   "execution_count": 35,
   "metadata": {},
   "outputs": [],
   "source": [
    "from sklearn.model_selection import train_test_split\n",
    "x_train, x_val, y_train, y_val = train_test_split(all_predictors, y, test_size=0.1)"
   ]
  },
  {
   "cell_type": "code",
   "execution_count": 36,
   "metadata": {},
   "outputs": [],
   "source": [
    "x_train, x_test, y_train, y_test = train_test_split(x_train, y_train, test_size=0.11)"
   ]
  },
  {
   "cell_type": "code",
   "execution_count": 37,
   "metadata": {},
   "outputs": [
    {
     "name": "stdout",
     "output_type": "stream",
     "text": [
      "Mean squared error: 1846521.11\n",
      "Variance score: 0.55\n"
     ]
    }
   ],
   "source": [
    "#make predictions and compare\n",
    "\n",
    "\n",
    "regr_3 = linear_model.LinearRegression()\n",
    "regr_3.fit(x_train, y_train)\n",
    "\n",
    "y_pred = regr_3.predict(x_train)\n",
    "y_pred_val = regr_3.predict(x_val)\n",
    "\n",
    "error_val = mean_squared_error(y_val, y_pred_val)\n",
    "error_train = mean_squared_error(y_train, y_pred)\n",
    "\n",
    "#print('Coefficients: \\n', regr.coef_)  #show the weights\n",
    "#show mean squared error\n",
    "print(\"Mean squared error: %.2f\"\n",
    "      % mean_squared_error(y_val, y_pred_val))\n",
    "# Explained variance score: 1 is perfect prediction\n",
    "print('Variance score: %.2f' % r2_score(y_val, y_pred_val))\n",
    "\n",
    "#print((1-error_val)*100)\n",
    "#print((1-error_train)*100)"
   ]
  },
  {
   "cell_type": "code",
   "execution_count": 38,
   "metadata": {},
   "outputs": [
    {
     "name": "stdout",
     "output_type": "stream",
     "text": [
      "D-Glucose 6-phosphate;D-Fructose 6-phosphate;beta-D-glucose 6-phosphate\n"
     ]
    },
    {
     "data": {
      "image/png": "[encoded data removed]",
      "text/plain": [
       "<Figure size 864x864 with 2 Axes>"
      ]
     },
     "metadata": {
      "needs_background": "light"
     },
     "output_type": "display_data"
    }
   ],
   "source": [
    "fig = plt.figure(figsize=(12,12))\n",
    "\n",
    "plt.title(print(mutants.columns.get_values()[position]))\n",
    "\n",
    "\n",
    "sub1 = plt.subplot(2,2,1)\n",
    "sub1.set_title('Train Data')\n",
    "plt.scatter(y= y_train, x=y_pred);\n",
    "\n",
    "\n",
    "sub2=plt.subplot(2,2,2)\n",
    "sub2.set_title('Validation Data')\n",
    "plt.scatter(y= y_val, x=y_pred_val);"
   ]
  },
  {
   "cell_type": "code",
   "execution_count": 39,
   "metadata": {},
   "outputs": [
    {
     "data": {
      "image/png": "[encoded data removed]",
      "text/plain": [
       "<Figure size 432x288 with 1 Axes>"
      ]
     },
     "metadata": {
      "needs_background": "light"
     },
     "output_type": "display_data"
    }
   ],
   "source": [
    "from sklearn.model_selection import cross_val_predict\n",
    "\n",
    "# cross_val_predict returns an array of the same size as `y` where each entry\n",
    "# is a prediction obtained by cross validation:\n",
    "predicted = cross_val_predict(regr_3, all_predictors, y, cv=50)\n",
    "\n",
    "fig, ax = plt.subplots()\n",
    "ax.scatter(y, predicted, edgecolors=(0, 0, 0))\n",
    "ax.plot([y.min(), y.max()], [y.min(), y.max()], 'k--', lw=4)\n",
    "ax.set_xlabel('Measured')\n",
    "ax.set_ylabel('Predicted')\n",
    "plt.show()"
   ]
  },
  {
   "cell_type": "code",
   "execution_count": 40,
   "metadata": {},
   "outputs": [
    {
     "name": "stdout",
     "output_type": "stream",
     "text": [
      "Accuracy: 90.65 %.\n"
     ]
    }
   ],
   "source": [
    "errors = abs(y_pred_val - y_val)\n",
    "mape = 100 * (errors / y_val)\n",
    "accuracy = 100 - np.mean(mape)\n",
    "print('Accuracy:', round(accuracy, 2), '%.')"
   ]
  },
  {
   "cell_type": "code",
   "execution_count": 41,
   "metadata": {},
   "outputs": [
    {
     "data": {
      "text/plain": [
       "<BarContainer object of 45 artists>"
      ]
     },
     "execution_count": 41,
     "metadata": {},
     "output_type": "execute_result"
    },
    {
     "data": {
      "image/png": "[encoded data removed]",
      "text/plain": [
       "<Figure size 1728x720 with 1 Axes>"
      ]
     },
     "metadata": {
      "needs_background": "light"
     },
     "output_type": "display_data"
    }
   ],
   "source": [
    "plt.figure(figsize=(24,10))\n",
    "plt.xticks(fontsize = 15, rotation=60)\n",
    "plt.bar(all_predictors.columns.get_values(), regr_3.coef_, )\n"
   ]
  },
  {
   "cell_type": "code",
   "execution_count": null,
   "metadata": {},
   "outputs": [],
   "source": []
  },
  {
   "cell_type": "code",
   "execution_count": 42,
   "metadata": {},
   "outputs": [],
   "source": [
    "# What are the targets (proteins) that all these metabolites have in common?\n",
    "#what have the metabolites (targets) in common?"
   ]
  },
  {
   "cell_type": "code",
   "execution_count": null,
   "metadata": {},
   "outputs": [],
   "source": []
  }
 ],
 "metadata": {
  "kernelspec": {
   "display_name": "Python 3",
   "language": "python",
   "name": "python3"
  },
  "language_info": {
   "codemirror_mode": {
    "name": "ipython",
    "version": 3
   },
   "file_extension": ".py",
   "mimetype": "text/x-python",
   "name": "python",
   "nbconvert_exporter": "python",
   "pygments_lexer": "ipython3",
   "version": "3.6.8"
  }
 },
 "nbformat": 4,
 "nbformat_minor": 2
}
